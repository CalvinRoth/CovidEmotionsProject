{
 "cells": [
  {
   "cell_type": "code",
   "execution_count": 1,
   "metadata": {},
   "outputs": [],
   "source": [
    "import pandas as pd \n",
    "import numpy as np \n",
    "from scipy.signal import csd\n",
    "import networkx as nx \n",
    "import matplotlib.pyplot as plt\n",
    "import seaborn as sns\n",
    "import datetime \n",
    "from numpy.linalg import inv\n",
    "import itertools"
   ]
  },
  {
   "cell_type": "code",
   "execution_count": 2,
   "metadata": {},
   "outputs": [],
   "source": [
    "covid_data= pd.read_csv(\"data/us.csv\")\n",
    "n_rows = len(covid_data)\n",
    "daily_cases = covid_data[\"cases\"].diff(1)\n",
    "daily_deaths = covid_data[\"deaths\"].diff(1)\n",
    "covid_data[\"daily_cases\"] = daily_cases\n",
    "covid_data[\"daily_death\"] = daily_deaths\n",
    "covid_data = covid_data.fillna(0)\n",
    "## replace initial NaN with 0 \n",
    "# covid_data[\"daily_cases\"][0] = 0 \n",
    "# covid_data[\"daily_death\"][0] = 0 \n"
   ]
  },
  {
   "cell_type": "code",
   "execution_count": 3,
   "metadata": {},
   "outputs": [
    {
     "data": {
      "text/plain": [
       "-2435"
      ]
     },
     "execution_count": 3,
     "metadata": {},
     "output_type": "execute_result"
    }
   ],
   "source": [
    "covid_data[\"deaths\"][783] - covid_data[\"deaths\"][782]"
   ]
  },
  {
   "cell_type": "code",
   "execution_count": 4,
   "metadata": {},
   "outputs": [
    {
     "data": {
      "text/plain": [
       "[<matplotlib.lines.Line2D at 0x7fbfea4adaf0>]"
      ]
     },
     "execution_count": 4,
     "metadata": {},
     "output_type": "execute_result"
    },
    {
     "data": {
      "image/png": "[encoded data removed]",
      "text/plain": [
       "<Figure size 640x480 with 1 Axes>"
      ]
     },
     "metadata": {},
     "output_type": "display_data"
    }
   ],
   "source": [
    "plt.plot(covid_data[\"daily_cases\"])\n",
    "#plt.plot(covid_data[\"deaths\"])"
   ]
  },
  {
   "cell_type": "code",
   "execution_count": 40,
   "metadata": {},
   "outputs": [],
   "source": [
    "have_ran = True \n",
    "def dateNum(date):\n",
    "    m_day = datetime.date(2022,6,2)\n",
    "    parts = date.split(\"-\")\n",
    "    day = datetime.date(int(parts[0]),int(parts[1]),int(parts[2]))\n",
    "    return (m_day - day).days\n",
    "if not have_ran:\n",
    "    tweets = pd.read_csv(\"data/tweetid_userid_keyword_sentiments_emotions_United States.csv\")\n",
    "    tweets[\"emotion\"] = tweets[\"emotion\"].fillna(\"N\")\n",
    "    tweets_data = dict() \n",
    "    def convertor(x):\n",
    "        if(x in [-2,-1,0,1,2]):\n",
    "            return [-2,-1,0,1,2].index(x)\n",
    "        elif(x in [\"N\", \"S\", \"H\", \"A\",\"F\"]):\n",
    "            return [\"N\", \"S\", \"H\", \"A\",\"F\"].index(x)+5\n",
    "        else:\n",
    "            print(\"Oh no this shound't happen at \", x )\n",
    "            \n",
    "\n",
    "    for i in range(n_tweets):\n",
    "        day = tweets[\"tweet_timestamp\"][i].split(\" \")[0]\n",
    "        sent = tweets[\"sentiment\"][i] \n",
    "        emote = tweets[\"emotion\"][i] \n",
    "        if(day in tweets_data):\n",
    "            tweets_data[day][convertor(sent)] += 1\n",
    "            tweets_data[day][convertor(emote)] += 1\n",
    "        else: \n",
    "            arr = [0 for i in range(10)]\n",
    "            arr[convertor(sent)] = 1 \n",
    "            arr[convertor(emote)] = 1\n",
    "            tweets_data[day] = arr.copy() \n",
    "    n = len(tweets_data)\n",
    "    dates = [\"\" for i in range(n)] \n",
    "\n",
    "\n",
    "    measurement = np.zeros((n, 10))\n",
    "\n",
    "    for tweet in tweets_data:\n",
    "        i = dateNum(tweet)\n",
    "        measurement[i, :] = tweets_data[tweet]\n",
    "        dates[i] = tweet \n",
    "    twitter_cleaned = pd.DataFrame(measurement,\n",
    "                                columns=[\"-2_sent\",\"-1_sent\",\"0_sent\",\n",
    "                                            \"1_sent\",\"2_sent\",\n",
    "                                            \"N\", \"S\", \"H\", \"A\",\"F\"] )\n",
    "    twitter_cleaned.insert(0, \"Date\", dates)\n",
    "    twitter_cleaned.to_csv(\"data/twitter_aggr.csv\")\n",
    "else: \n",
    "    twitter_data = pd.read_csv(\"data/twitter_aggr.csv\")"
   ]
  },
  {
   "cell_type": "code",
   "execution_count": 41,
   "metadata": {},
   "outputs": [
    {
     "data": {
      "text/plain": [
       "'2022-06-02'"
      ]
     },
     "execution_count": 41,
     "metadata": {},
     "output_type": "execute_result"
    }
   ],
   "source": [
    "covid_data[\"date\"][863]"
   ]
  },
  {
   "cell_type": "code",
   "execution_count": 42,
   "metadata": {},
   "outputs": [
    {
     "data": {
      "text/plain": [
       "68935089.0"
      ]
     },
     "execution_count": 42,
     "metadata": {},
     "output_type": "execute_result"
    }
   ],
   "source": [
    "emotions = [\"N\", \"S\", \"H\", \"A\", \"F\"]\n",
    "sents = [\"-2_sent\", \"-1_sent\", \"0_sent\", \"1_sent\", \"2_sent\"]\n",
    "sum(np.sum(pd.DataFrame(twitter_data, columns=emotions)))"
   ]
  },
  {
   "cell_type": "code",
   "execution_count": 74,
   "metadata": {},
   "outputs": [],
   "source": [
    "#keys =  {0 : \"-2_sent\", 1 : \"-1_sent\", 2 : \"0_sent\", 3 : \"1_sent\", 4 : \"2_sent\" \n",
    " #        ,7 : \"A\", 8 : \"H\", 9 : \"S\", 10 : \"N\", 11 : \"F\"}\n",
    "keys = {0 : \"A\", 1 : \"H\", 2 : \"S\", 3 : \"N\", 4 : \"F\" }\n",
    "n = len(keys)+2\n",
    "data = np.zeros((n,len(twitter_data[\"A\"])))\n",
    "for i in range(n):\n",
    "    if(i==5):\n",
    "        data[i,:] = covid_data[\"daily_cases\"][7:864]\n",
    "    elif(i==6):\n",
    "        data[i,:] = covid_data[\"daily_death\"][7:864]\n",
    "    else: \n",
    "        data[i,:] = twitter_data[keys[i]]\n",
    "          "
   ]
  },
  {
   "cell_type": "code",
   "execution_count": 75,
   "metadata": {},
   "outputs": [],
   "source": [
    "n = len(keys) + 2 \n",
    "freqs = [i*10 for i in range(1,13)]\n",
    "Pxys = np.zeros((n,n,129), dtype=np.complex64)\n",
    "Pxy_max = np.zeros((n,n), dtype=np.complex64)\n",
    "for i in range(n):\n",
    "    for j in range(n):\n",
    "        f, cxy = csd(data[i,:],data[j,:])\n",
    "        Pxys[i,j,:] = cxy \n",
    "for i in range(n):\n",
    "    for j in range(n):\n",
    "        Pxy_max[i,j] = np.max(Pxys[i,j,freqs])\n"
   ]
  },
  {
   "cell_type": "code",
   "execution_count": 76,
   "metadata": {},
   "outputs": [],
   "source": [
    "def insert_diag(M):\n",
    "    n = len(M)\n",
    "    A = np.zeros((n+1,n+1), dtype=np.complex64)\n",
    "    for i in range(n):\n",
    "        for j in range(0,i):\n",
    "            A[i,j] = M[i,j] \n",
    "        for j in range(i+1, n+1):\n",
    "            A[i,j] = M[i, j-1]\n",
    "    return A \n",
    "### 60 is an arbitrary frequency to check\n",
    "def wiener_project(csd_data, freq=60):\n",
    "    n = len(csd_data)\n",
    "    result = np.zeros((n,n), dtype=complex)\n",
    "    for i in range(n):\n",
    "        mxx = np.zeros((n-1,n-1), dtype=np.complex64)\n",
    "        c = 0 \n",
    "        for j in range(n):\n",
    "            if(j==i): continue\n",
    "            d = 0\n",
    "            for k in range(n):\n",
    "                if(k==i): continue\n",
    "                mxx[c,d] = csd_data[j,k,freq]\n",
    "                d += 1\n",
    "            c += 1 \n",
    "        fil = [j for j in range(n) if j!=i]\n",
    "\n",
    "        result[i, fil] =  csd_data[i,fil,freq] @ inv(mxx)\n",
    "    return result\n",
    "\n"
   ]
  },
  {
   "cell_type": "code",
   "execution_count": 89,
   "metadata": {},
   "outputs": [],
   "source": [
    "def adj(data, i, ex=-1):\n",
    "    lst = []\n",
    "    for j in range(6):\n",
    "        if(j == ex or j == i):\n",
    "            continue\n",
    "        if(data[i,j] == 1):\n",
    "            lst.append(j)\n",
    "    return lst \n",
    "\n",
    "def max_adj(data):\n",
    "    adjs = np.sum(data, axis=0)\n",
    "    return np.max(adjs) \n",
    "\n",
    "def project(csd_data, data, i, subspace_idx,freq=45):\n",
    "    n = len(subspace_idx)\n",
    "    v =   csd_data[i, subspace_idx]\n",
    "    M = np.zeros((n,n), np.complex64)\n",
    "    for j in range(n):\n",
    "        for k in range(n):\n",
    "            M[j,k] = csd_data[subspace_idx[j], subspace_idx[k]]\n",
    "    Minv = inv(M)\n",
    "    return v @ Minv @ data[:, subspace_idx].T\n",
    "\n",
    "\n",
    "\n",
    "def seps(csd_data, data , x : int ,y : int , subset : list ):\n",
    "    xz = project(csd_data, data, x, subset)\n",
    "    xyz = project(csd_data, data, x, [y] + subset )\n",
    "    return np.linalg.norm( xyz - xz) < 350 ## not sure if it should be properly 0 or just small \n",
    "\n",
    "def pc1(csd_data,data): \n",
    "    n = len(data)\n",
    "    G1 = np.ones((n,n)) - np.eye(n,n)\n",
    "    seperators = {}\n",
    "    depth = 0\n",
    "    while(max_adj(G1) >= depth ): \n",
    "        for x in range(n):\n",
    "            for y in range(n):\n",
    "                if(G1[x,y] == 0): continue \n",
    "                if(sum(G1[x,:]) - 1 >= depth ): \n",
    "                    lst = adj(G1, x, y)\n",
    "                    for s in itertools.combinations(lst, depth):\n",
    "                        if(seps(csd_data,data, x, y, list(s))):\n",
    "                            G1[x,y] = 0 \n",
    "                            G1[y,x] = 0\n",
    "                            seperators[(x,y)] = s\n",
    "                            seperators[(y,x)] = s\n",
    "        depth = depth + 1 \n",
    "    ### using 2 for later parts to denote the edge is of an undirected type\n",
    "    return G1, seperators \n",
    "\n",
    "import copy\n",
    "\n",
    "\n",
    "## check if orienting j -> i makes an immortality \n",
    "def immoral_check(G, i, j):\n",
    "    n = len(G)\n",
    "    for a in range(n):\n",
    "        ## cond: j -> i <- a and not j - a\n",
    "        if(G[a,i] == 1 and ( G[a,j]==0 and G[j,a]==0 )):\n",
    "            return True \n",
    "    return False \n",
    "\n",
    "def pc2(G1, sepers):\n",
    "    n = len(G1)\n",
    "    G2 = copy.deepcopy(G1)\n",
    "    for i in range(n):\n",
    "        for j in range(n):\n",
    "            if(i==j):continue\n",
    "            for k in range(n):\n",
    "                if(j==k or i==k):continue\n",
    "                if(G1[i,j] and G1[j,k] and not G1[i,k]):\n",
    "                    if(j not in sepers[(i,k)]): \n",
    "                        G2[i,j] = G2[k,j] = 1 \n",
    "                        G2[j,i] = G2[j,k] = 0 \n",
    "    for i in range(n):\n",
    "        for j in range(n):\n",
    "            ## Edge is undirected\n",
    "            if(G2[i,j] == 2):\n",
    "                if(immoral_check(G2,i,j)):\n",
    "                    G2[i,j] = 1 \n",
    "                    G2[j,i] = 0 \n",
    "    return G2 \n"
   ]
  },
  {
   "cell_type": "code",
   "execution_count": 90,
   "metadata": {},
   "outputs": [],
   "source": [
    "g1, sepers = pc1(Pxy_max, data)"
   ]
  },
  {
   "cell_type": "code",
   "execution_count": 91,
   "metadata": {},
   "outputs": [
    {
     "data": {
      "text/plain": [
       "array([[0., 0., 1., 1., 1., 0., 0.],\n",
       "       [0., 0., 0., 1., 0., 1., 1.],\n",
       "       [1., 0., 0., 1., 1., 0., 1.],\n",
       "       [1., 1., 1., 0., 1., 0., 0.],\n",
       "       [1., 0., 1., 1., 0., 0., 0.],\n",
       "       [0., 1., 0., 0., 0., 0., 0.],\n",
       "       [0., 1., 1., 0., 0., 0., 0.]])"
      ]
     },
     "execution_count": 91,
     "metadata": {},
     "output_type": "execute_result"
    }
   ],
   "source": [
    "g1"
   ]
  },
  {
   "cell_type": "code",
   "execution_count": 92,
   "metadata": {},
   "outputs": [],
   "source": [
    "g2 = pc2(g1,sepers)"
   ]
  },
  {
   "cell_type": "code",
   "execution_count": 93,
   "metadata": {},
   "outputs": [],
   "source": [
    "labels = keys \n",
    "labels[5] = \"Inf\"\n",
    "labels[6] = \"Deaths\""
   ]
  },
  {
   "cell_type": "code",
   "execution_count": 94,
   "metadata": {},
   "outputs": [
    {
     "data": {
      "image/png": "[encoded data removed]",
      "text/plain": [
       "<Figure size 640x480 with 1 Axes>"
      ]
     },
     "metadata": {},
     "output_type": "display_data"
    }
   ],
   "source": [
    "G = nx.DiGraph(g2)\n",
    "ls = nx.circular_layout(G)\n",
    "nx.draw_networkx(G, pos=ls, labels={i: labels[i] for i in range(7)})"
   ]
  },
  {
   "cell_type": "code",
   "execution_count": null,
   "metadata": {},
   "outputs": [],
   "source": []
  }
 ],
 "metadata": {
  "kernelspec": {
   "display_name": "pDL",
   "language": "python",
   "name": "python3"
  },
  "language_info": {
   "codemirror_mode": {
    "name": "ipython",
    "version": 3
   },
   "file_extension": ".py",
   "mimetype": "text/x-python",
   "name": "python",
   "nbconvert_exporter": "python",
   "pygments_lexer": "ipython3",
   "version": "3.8.10"
  }
 },
 "nbformat": 4,
 "nbformat_minor": 2
}
