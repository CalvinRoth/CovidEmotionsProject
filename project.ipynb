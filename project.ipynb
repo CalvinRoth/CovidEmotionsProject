{
 "cells": [
  {
   "cell_type": "code",
   "execution_count": 18,
   "metadata": {},
   "outputs": [],
   "source": [
    "import pandas as pd \n",
    "import numpy as np \n",
    "from scipy.signal import csd\n",
    "import networkx as nx \n",
    "import matplotlib.pyplot as plt\n",
    "import seaborn as sns\n",
    "import datetime \n",
    "from numpy.linalg import inv\n",
    "import itertools\n",
    "from causallearn.search.ConstraintBased.PC import pc\n",
    "from causallearn.search.ConstraintBased.FCI import fci\n",
    "from causallearn.utils.GraphUtils import GraphUtils\n",
    "from causallearn.utils.PCUtils.BackgroundKnowledge import BackgroundKnowledge\n",
    "from causallearn.utils.PCUtils.BackgroundKnowledgeOrientUtils import \\\n",
    "    orient_by_background_knowledge"
   ]
  },
  {
   "cell_type": "code",
   "execution_count": 2,
   "metadata": {},
   "outputs": [],
   "source": [
    "covid_data= pd.read_csv(\"data/us.csv\")\n",
    "n_rows = len(covid_data)\n",
    "daily_cases = covid_data[\"cases\"].diff(7)\n",
    "daily_deaths = covid_data[\"deaths\"].diff(7)\n",
    "covid_data[\"daily_cases\"] = daily_cases\n",
    "covid_data[\"daily_death\"] = daily_deaths\n",
    "covid_data = covid_data.fillna(0)\n",
    "## replace initial NaN with 0 \n",
    "# covid_data[\"daily_cases\"][0] = 0 \n",
    "# covid_data[\"daily_death\"][0] = 0 \n"
   ]
  },
  {
   "cell_type": "code",
   "execution_count": 3,
   "metadata": {},
   "outputs": [
    {
     "data": {
      "text/plain": [
       "963"
      ]
     },
     "execution_count": 3,
     "metadata": {},
     "output_type": "execute_result"
    }
   ],
   "source": [
    "covid_data[\"deaths\"][130] - covid_data[\"deaths\"][129]"
   ]
  },
  {
   "cell_type": "code",
   "execution_count": 4,
   "metadata": {},
   "outputs": [
    {
     "data": {
      "text/plain": [
       "6715.0"
      ]
     },
     "execution_count": 4,
     "metadata": {},
     "output_type": "execute_result"
    }
   ],
   "source": [
    "covid_data[\"daily_death\"][130]"
   ]
  },
  {
   "cell_type": "code",
   "execution_count": 5,
   "metadata": {},
   "outputs": [
    {
     "data": {
      "text/plain": [
       "[<matplotlib.lines.Line2D at 0x7fedb6af3bb0>]"
      ]
     },
     "execution_count": 5,
     "metadata": {},
     "output_type": "execute_result"
    },
    {
     "data": {
      "image/png": "[encoded data removed]",
      "text/plain": [
       "<Figure size 640x480 with 1 Axes>"
      ]
     },
     "metadata": {},
     "output_type": "display_data"
    }
   ],
   "source": [
    "plt.plot(covid_data[\"daily_cases\"])\n",
    "#plt.plot(covid_data[\"deaths\"])"
   ]
  },
  {
   "cell_type": "code",
   "execution_count": 6,
   "metadata": {},
   "outputs": [],
   "source": [
    "have_ran = True \n",
    "def dateNum(date):\n",
    "    m_day = datetime.date(2022,6,2)\n",
    "    parts = date.split(\"-\")\n",
    "    day = datetime.date(int(parts[0]),int(parts[1]),int(parts[2]))\n",
    "    return (m_day - day).days\n",
    "if not have_ran:\n",
    "    tweets = pd.read_csv(\"data/tweetid_userid_keyword_sentiments_emotions_United States.csv\")\n",
    "    tweets[\"emotion\"] = tweets[\"emotion\"].fillna(\"N\")\n",
    "    tweets_data = dict() \n",
    "    def convertor(x):\n",
    "        if(x in [-2,-1,0,1,2]):\n",
    "            return [-2,-1,0,1,2].index(x)\n",
    "        elif(x in [\"N\", \"S\", \"H\", \"A\",\"F\"]):\n",
    "            return [\"N\", \"S\", \"H\", \"A\",\"F\"].index(x)+5\n",
    "        else:\n",
    "            print(\"Oh no this shound't happen at \", x )\n",
    "            \n",
    "\n",
    "    for i in range(n_tweets):\n",
    "        day = tweets[\"tweet_timestamp\"][i].split(\" \")[0]\n",
    "        sent = tweets[\"sentiment\"][i] \n",
    "        emote = tweets[\"emotion\"][i] \n",
    "        if(day in tweets_data):\n",
    "            tweets_data[day][convertor(sent)] += 1\n",
    "            tweets_data[day][convertor(emote)] += 1\n",
    "        else: \n",
    "            arr = [0 for i in range(10)]\n",
    "            arr[convertor(sent)] = 1 \n",
    "            arr[convertor(emote)] = 1\n",
    "            tweets_data[day] = arr.copy() \n",
    "    n = len(tweets_data)\n",
    "    dates = [\"\" for i in range(n)] \n",
    "\n",
    "\n",
    "    measurement = np.zeros((n, 10))\n",
    "\n",
    "    for tweet in tweets_data:\n",
    "        i = dateNum(tweet)\n",
    "        measurement[i, :] = tweets_data[tweet]\n",
    "        dates[i] = tweet \n",
    "    twitter_cleaned = pd.DataFrame(measurement,\n",
    "                                columns=[\"-2_sent\",\"-1_sent\",\"0_sent\",\n",
    "                                            \"1_sent\",\"2_sent\",\n",
    "                                            \"N\", \"S\", \"H\", \"A\",\"F\"] )\n",
    "    twitter_cleaned.insert(0, \"Date\", dates)\n",
    "    twitter_cleaned.to_csv(\"data/twitter_aggr.csv\")\n",
    "else: \n",
    "    twitter_data = pd.read_csv(\"data/twitter_aggr.csv\")"
   ]
  },
  {
   "cell_type": "code",
   "execution_count": 7,
   "metadata": {},
   "outputs": [],
   "source": [
    "emotions = [\"N\", \"S\", \"H\", \"A\", \"F\"]\n",
    "sents = [\"-2_sent\", \"-1_sent\", \"0_sent\", \"1_sent\", \"2_sent\"]"
   ]
  },
  {
   "cell_type": "code",
   "execution_count": 12,
   "metadata": {},
   "outputs": [],
   "source": [
    "def filter_foo(val, data):\n",
    "    if(val > np.mean(data)):\n",
    "        return 1 \n",
    "    else: \n",
    "        return 0\n",
    "    # if(val < np.quantile(data, 0.25)):\n",
    "    #     return 1 \n",
    "    # elif(val < np.quantile(data, 0.5)):\n",
    "    #     return 2 \n",
    "    # elif(val < np.quantile(data, 0.75)):\n",
    "    #     return 3 \n",
    "    # else:\n",
    "    #     return 4\n",
    "\n",
    "def average_sent(row):\n",
    "    weights = [-2, -1, 0, 1, 2]\n",
    "    labels = [\"-2_sent\", \"-1_sent\", \"0_sent\", \"1_sent\", \"2_sent\"]\n",
    "    total = sum( weights[i]*row[labels[i]] for i in range(5))\n",
    "    return round(total)\n",
    "#keys =  {0 : \"-2_sent\", 1 : \"-1_sent\", 2 : \"0_sent\", 3 : \"1_sent\", 4 : \"2_sent\" \n",
    " #        ,7 : \"A\", 8 : \"H\", 9 : \"S\", 10 : \"N\", 11 : \"F\"}\n",
    "keys_emote = {0 : \"A\", 1 : \"H\", 2 : \"S\", 3 : \"N\", 4 : \"F\" }\n",
    "keys_sent = {0 : \"-2_sent\", 1: \"-1_sent\", 2:\"0_sent\", 3:\"1_sent\", 4:\"2_sent\"}\n",
    "n = len(keys_emote)+2\n",
    "data = np.zeros((n,len(twitter_data[\"A\"])))\n",
    "emote_data =  np.zeros((n,len(twitter_data[\"A\"])))\n",
    "sent_data =  np.zeros((n,len(twitter_data[\"A\"])))\n",
    "emote_dis = np.zeros((n, len(twitter_data[\"A\"])))\n",
    "sent_dis = np.zeros((n, len(twitter_data[\"A\"])))\n",
    "\n",
    "totals = np.sum(twitter_data[[\"A\",\"S\",\"F\",\"H\",\"N\"]], axis=1)\n",
    "total_sent = [average_sent(twitter_data.iloc[i]) for i in range(len(twitter_data[\"A\"]))][::-1]\n",
    "for i in range(n):\n",
    "    if(i==5):\n",
    "        emote_data[i,:] = covid_data[\"daily_cases\"][7:864]\n",
    "        sent_data[i,:] = covid_data[\"daily_cases\"][7:864]\n",
    "\n",
    "        emote_dis[i,:] = [filter_foo(val,\n",
    "                                covid_data[\"daily_cases\"][7:864]) for val in covid_data[\"daily_cases\"][7:864]]\n",
    "        sent_dis[i,:] = [filter_foo(val,\n",
    "                                covid_data[\"daily_cases\"][7:864]) for val in covid_data[\"daily_cases\"][7:864]]\n",
    "        #emote_dis[i+7, :] = [filter_foo(val, covid_data[\"daily_cases\"][7:864]) for val in covid_data[\"daily_cases\"][7:864].rolling(7).sum().fillna(0)]\n",
    "\n",
    "    elif(i==6):\n",
    "        emote_data[i,:] = covid_data[\"daily_death\"][7:864]\n",
    "        sent_data[i,:] = covid_data[\"daily_death\"][7:864]\n",
    "\n",
    "        emote_dis[i,:] = [filter_foo(val,\n",
    "                                covid_data[\"deaths\"][7:864]) for val in covid_data[\"deaths\"][7:864]]\n",
    "        sent_dis[i,:] = [filter_foo(val,\n",
    "                                covid_data[\"daily_death\"][7:864]) for val in covid_data[\"daily_death\"][7:864]]\n",
    "        #remote_dis[i+7, :] = [filter_foo(val, covid_data[\"daily_death\"][7:864]) for val in covid_data[\"daily_death\"][7:864].rolling(7).sum().fillna(0)]\n",
    "\n",
    "    #elif(i==7):\n",
    "    #    emote_dis[i, :] = [filter_foo(val, covid_data[\"daily_cases\"][7:864]) for val in covid_data[\"daily_cases\"][7:864].rolling(3).sum().fillna(0)]\n",
    "    #elif(i==8):\n",
    "    else: \n",
    "        emote_data[i,:] = twitter_data[keys_emote[i]][::-1]\n",
    "        sent_data[i,:] = twitter_data[keys_sent[i]][::-1]\n",
    "        emote_dis[i,:] = [filter_foo(val,\n",
    "                                twitter_data[keys_emote[i]]) for val in twitter_data[keys_emote[i]][::-1]]\n",
    "        sent_dis[i,:] = [filter_foo(val,\n",
    "                                twitter_data[keys_sent[i]]) for val in twitter_data[keys_sent[i]][::-1]]\n",
    "        \n",
    "        #emote_dis[i+7, :] = [filter_foo(val, twitter_data[keys_emote[i]]) for val in twitter_data[keys_emote[i]][::-1].rolling(7).sum().fillna(0)]\n"
   ]
  },
  {
   "cell_type": "code",
   "execution_count": 9,
   "metadata": {},
   "outputs": [
    {
     "ename": "NameError",
     "evalue": "name 'keys' is not defined",
     "output_type": "error",
     "traceback": [
      "\u001b[0;31m---------------------------------------------------------------------------\u001b[0m",
      "\u001b[0;31mNameError\u001b[0m                                 Traceback (most recent call last)",
      "\u001b[1;32m/Users/calvinroth/classes/EE/project/CovidEmotionsProject/project.ipynb Cell 9\u001b[0m line \u001b[0;36m1\n\u001b[0;32m----> <a href='vscode-notebook-cell:/Users/calvinroth/classes/EE/project/CovidEmotionsProject/project.ipynb#X12sZmlsZQ%3D%3D?line=0'>1</a>\u001b[0m n \u001b[39m=\u001b[39m \u001b[39mlen\u001b[39m(keys) \u001b[39m+\u001b[39m \u001b[39m2\u001b[39m \n\u001b[1;32m      <a href='vscode-notebook-cell:/Users/calvinroth/classes/EE/project/CovidEmotionsProject/project.ipynb#X12sZmlsZQ%3D%3D?line=1'>2</a>\u001b[0m Pxys \u001b[39m=\u001b[39m np\u001b[39m.\u001b[39mzeros((n,n,\u001b[39m129\u001b[39m), dtype\u001b[39m=\u001b[39mnp\u001b[39m.\u001b[39mcomplex64)\n\u001b[1;32m      <a href='vscode-notebook-cell:/Users/calvinroth/classes/EE/project/CovidEmotionsProject/project.ipynb#X12sZmlsZQ%3D%3D?line=2'>3</a>\u001b[0m Pxy_max \u001b[39m=\u001b[39m np\u001b[39m.\u001b[39mzeros((n,n), dtype\u001b[39m=\u001b[39mnp\u001b[39m.\u001b[39mcomplex64)\n",
      "\u001b[0;31mNameError\u001b[0m: name 'keys' is not defined"
     ]
    }
   ],
   "source": [
    "n = len(keys) + 2 \n",
    "Pxys = np.zeros((n,n,129), dtype=np.complex64)\n",
    "Pxy_max = np.zeros((n,n), dtype=np.complex64)\n",
    "for i in range(n):\n",
    "    for j in range(n):\n",
    "        f, cxy = csd(emote_dis[i,:],data[j,:])\n",
    "        Pxys[i,j,:] = cxy \n",
    "\n"
   ]
  },
  {
   "cell_type": "code",
   "execution_count": 10,
   "metadata": {},
   "outputs": [],
   "source": [
    "def insert_diag(M):\n",
    "    n = len(M)\n",
    "    A = np.zeros((n+1,n+1), dtype=np.complex64)\n",
    "    for i in range(n):\n",
    "        for j in range(0,i):\n",
    "            A[i,j] = M[i,j] \n",
    "        for j in range(i+1, n+1):\n",
    "            A[i,j] = M[i, j-1]\n",
    "    return A \n",
    "### 60 is an arbitrary frequency to check\n",
    "def wiener_project(csd_data, freq=60):\n",
    "    n = len(csd_data)\n",
    "    result = np.zeros((n,n), dtype=complex)\n",
    "    for i in range(n):\n",
    "        mxx = np.zeros((n-1,n-1), dtype=np.complex64)\n",
    "        c = 0 \n",
    "        for j in range(n):\n",
    "            if(j==i): continue\n",
    "            d = 0\n",
    "            for k in range(n):\n",
    "                if(k==i): continue\n",
    "                mxx[c,d] = csd_data[j,k,freq]\n",
    "                d += 1\n",
    "            c += 1 \n",
    "        fil = [j for j in range(n) if j!=i]\n",
    "\n",
    "        result[i, fil] =  csd_data[i,fil,freq] @ inv(mxx)\n",
    "    return result\n",
    "\n"
   ]
  },
  {
   "cell_type": "code",
   "execution_count": 11,
   "metadata": {},
   "outputs": [],
   "source": [
    "def adj(data, i, ex=-1):\n",
    "    lst = []\n",
    "    for j in range(6):\n",
    "        if(j == ex or j == i):\n",
    "            continue\n",
    "        if(data[i,j] == 1):\n",
    "            lst.append(j)\n",
    "    return lst \n",
    "\n",
    "def max_adj(data):\n",
    "    adjs = np.sum(data, axis=0)\n",
    "    return np.max(adjs) \n",
    "\n",
    "def project(csd_data, data, i, subspace_idx,freq=45):\n",
    "    n = len(subspace_idx)\n",
    "    v =   csd_data[i, subspace_idx]\n",
    "    M = np.zeros((n,n), np.complex64)\n",
    "    for j in range(n):\n",
    "        for k in range(n):\n",
    "            M[j,k] = csd_data[subspace_idx[j], subspace_idx[k]]\n",
    "    Minv = inv(M)\n",
    "    return v @ Minv @ data[:, subspace_idx].T\n",
    "\n",
    "\n",
    "\n",
    "def seps(csd_data, data , x : int ,y : int , subset : list ):\n",
    "    xz = project(csd_data, data, x, subset)\n",
    "    xyz = project(csd_data, data, x, [y] + subset )\n",
    "    return np.linalg.norm( xyz - xz) < 350 ## not sure if it should be properly 0 or just small \n",
    "\n",
    "def pc1(csd_data,data): \n",
    "    n = len(data)\n",
    "    G1 = np.ones((n,n)) - np.eye(n,n)\n",
    "    seperators = {}\n",
    "    depth = 0\n",
    "    while(max_adj(G1) >= depth ): \n",
    "        for x in range(n):\n",
    "            for y in range(n):\n",
    "                if(G1[x,y] == 0): continue \n",
    "                if(sum(G1[x,:]) - 1 >= depth ): \n",
    "                    lst = adj(G1, x, y)\n",
    "                    for s in itertools.combinations(lst, depth):\n",
    "                        if(seps(csd_data,data, x, y, list(s))):\n",
    "                            G1[x,y] = 0 \n",
    "                            G1[y,x] = 0\n",
    "                            seperators[(x,y)] = s\n",
    "                            seperators[(y,x)] = s\n",
    "        depth = depth + 1 \n",
    "    ### using 2 for later parts to denote the edge is of an undirected type\n",
    "    return G1, seperators \n",
    "\n",
    "import copy\n",
    "\n",
    "\n",
    "## check if orienting j -> i makes an immortality \n",
    "def immoral_check(G, i, j):\n",
    "    n = len(G)\n",
    "    for a in range(n):\n",
    "        ## cond: j -> i <- a and not j - a\n",
    "        if(G[a,i] == 1 and ( G[a,j]==0 and G[j,a]==0 )):\n",
    "            return True \n",
    "    return False \n",
    "\n",
    "def pc2(G1, sepers):\n",
    "    n = len(G1)\n",
    "    G2 = copy.deepcopy(G1)\n",
    "    for i in range(n):\n",
    "        for j in range(n):\n",
    "            if(i==j):continue\n",
    "            for k in range(n):\n",
    "                if(j==k or i==k):continue\n",
    "                if(G1[i,j] and G1[j,k] and not G1[i,k]):\n",
    "                    if(j not in sepers[(i,k)]): \n",
    "                        G2[i,j] = G2[k,j] = 1 \n",
    "                        G2[j,i] = G2[j,k] = 0 \n",
    "    for i in range(n):\n",
    "        for j in range(n):\n",
    "            ## Edge is undirected\n",
    "            if(G2[i,j] == 2):\n",
    "                if(immoral_check(G2,i,j)):\n",
    "                    G2[i,j] = 1 \n",
    "                    G2[j,i] = 0 \n",
    "    return G2 \n"
   ]
  },
  {
   "cell_type": "code",
   "execution_count": 16,
   "metadata": {},
   "outputs": [
    {
     "data": {
      "application/vnd.jupyter.widget-view+json": {
       "model_id": "36d685b9c4f2479b9b3f8f07716d3bee",
       "version_major": 2,
       "version_minor": 0
      },
      "text/plain": [
       "  0%|          | 0/7 [00:00<?, ?it/s]"
      ]
     },
     "metadata": {},
     "output_type": "display_data"
    },
    {
     "data": {
      "text/plain": [
       "<pydot.Dot at 0x7fedb12a36a0>"
      ]
     },
     "execution_count": 16,
     "metadata": {},
     "output_type": "execute_result"
    }
   ],
   "source": [
    "pc_emote_dis = pc(emote_dis.T)\n",
    "GraphUtils.to_pydot(pc_emote_dis.G)\n",
    "view_"
   ]
  },
  {
   "cell_type": "code",
   "execution_count": 28,
   "metadata": {},
   "outputs": [
    {
     "data": {
      "application/vnd.jupyter.widget-view+json": {
       "model_id": "1a73eabb979e4d9f8adbfb3627911bf2",
       "version_major": 2,
       "version_minor": 0
      },
      "text/plain": [
       "  0%|          | 0/7 [00:00<?, ?it/s]"
      ]
     },
     "metadata": {},
     "output_type": "display_data"
    },
    {
     "name": "stdout",
     "output_type": "stream",
     "text": [
      "X1 --> X5\n",
      "X4 --> X2\n",
      "X2 --> X5\n",
      "X3 --> X7\n"
     ]
    },
    {
     "data": {
      "application/vnd.jupyter.widget-view+json": {
       "model_id": "0ca5345e69784668a488a0c6a81afcce",
       "version_major": 2,
       "version_minor": 0
      },
      "text/plain": [
       "  0%|          | 0/7 [00:00<?, ?it/s]"
      ]
     },
     "metadata": {},
     "output_type": "display_data"
    },
    {
     "name": "stdout",
     "output_type": "stream",
     "text": [
      "X2 --> X4\n"
     ]
    },
    {
     "data": {
      "application/vnd.jupyter.widget-view+json": {
       "model_id": "34342eef11c343fbb8e38437dec53e14",
       "version_major": 2,
       "version_minor": 0
      },
      "text/plain": [
       "  0%|          | 0/7 [00:00<?, ?it/s]"
      ]
     },
     "metadata": {},
     "output_type": "display_data"
    },
    {
     "data": {
      "application/vnd.jupyter.widget-view+json": {
       "model_id": "d5fe25c3a2354f0395c1c50bb08e7dcb",
       "version_major": 2,
       "version_minor": 0
      },
      "text/plain": [
       "  0%|          | 0/7 [00:00<?, ?it/s]"
      ]
     },
     "metadata": {},
     "output_type": "display_data"
    }
   ],
   "source": [
    "n1 = GraphNode('5')\n",
    "n2 = GraphNode('6')\n",
    "bk = BackgroundKnowledge().add_required_by_node(n1,n2)\n",
    "#g_emote_dis, _ = fci(emote_dis.T, background_knowledge=bk)\n",
    "g_emote_dis, _ = fci(emote_dis.T)\n",
    "\n",
    "g_emote, _ = fci(emote_data.T)\n",
    "g_sent, _ = fci(sent_data.T)\n",
    "g_sent_dis, _ = fci(sent_dis.T)\n",
    "res_emote_dis = GraphUtils.to_pydot(g_emote_dis, labels=[\"Angry\", \"Happy\", \"Sad\", \"Neutral\", \"Fear\", \"Infection\", \"Death\",\n",
    "                                                         ])\n",
    "res_emote  = GraphUtils.to_pydot(g_emote, labels=[\"Angry\", \"Happy\", \"Sad\", \"Neutral\", \"Fear\", \"Infection\", \"Death\"])\n",
    "res_sent_dis  = GraphUtils.to_pydot(g_sent_dis, labels=[\"-2\",\"-1\",\"0\",\"1\",\"2\", \"Infection\", \"Death\"])\n",
    "res_sent  = GraphUtils.to_pydot(g_sent, labels=[\"-2\",\"-1\",\"0\",\"1\",\"2\", \"Infection\", \"Death\"])\n",
    "\n",
    "res_emote_dis.write_png('results/emote_test_dis.png')\n",
    "res_emote.write_png('results/emote_test.png')\n",
    "res_sent_dis.write_png('results/sent_test_dis.png')\n",
    "res_sent.write_png('results/sent_test.png')\n"
   ]
  },
  {
   "cell_type": "code",
   "execution_count": 25,
   "metadata": {},
   "outputs": [
    {
     "data": {
      "application/vnd.jupyter.widget-view+json": {
       "model_id": "d33cdaa52d4b4e5192b53dcd26c008b3",
       "version_major": 2,
       "version_minor": 0
      },
      "text/plain": [
       "  0%|          | 0/7 [00:00<?, ?it/s]"
      ]
     },
     "metadata": {},
     "output_type": "display_data"
    },
    {
     "data": {
      "application/vnd.jupyter.widget-view+json": {
       "model_id": "ded9e84407264134a1d7e149d03095b8",
       "version_major": 2,
       "version_minor": 0
      },
      "text/plain": [
       "  0%|          | 0/7 [00:00<?, ?it/s]"
      ]
     },
     "metadata": {},
     "output_type": "display_data"
    },
    {
     "data": {
      "application/vnd.jupyter.widget-view+json": {
       "model_id": "5547539b441b47d4b4f5ca9d51ffd447",
       "version_major": 2,
       "version_minor": 0
      },
      "text/plain": [
       "  0%|          | 0/7 [00:00<?, ?it/s]"
      ]
     },
     "metadata": {},
     "output_type": "display_data"
    },
    {
     "data": {
      "application/vnd.jupyter.widget-view+json": {
       "model_id": "22a42d6361b94bf79b3e8c0d833f3bf1",
       "version_major": 2,
       "version_minor": 0
      },
      "text/plain": [
       "  0%|          | 0/7 [00:00<?, ?it/s]"
      ]
     },
     "metadata": {},
     "output_type": "display_data"
    }
   ],
   "source": [
    "n1 = GraphNode('5')\n",
    "n2 = GraphNode('6')\n",
    "bk = BackgroundKnowledge().add_required_by_node(n1,n2)\n",
    "g_emote_dis = pc(emote_dis.T, background_knowledge=bk)\n",
    "g_emote = pc(emote_data.T)\n",
    "g_sent = pc(sent_data.T)\n",
    "g_sent_dis = pc(sent_dis.T)\n",
    "res_emote_dis = GraphUtils.to_pydot(g_emote_dis.G, labels=[\"Angry\", \"Happy\", \"Sad\", \"Neutral\", \"Fear\", \"Infection\", \"Death\",\n",
    "                                                         ])\n",
    "res_emote  = GraphUtils.to_pydot(g_emote.G, labels=[\"Angry\", \"Happy\", \"Sad\", \"Neutral\", \"Fear\", \"Infection\", \"Death\"])\n",
    "res_sent_dis  = GraphUtils.to_pydot(g_sent_dis.G, labels=[\"-2\",\"-1\",\"0\",\"1\",\"2\", \"Infection\", \"Death\"])\n",
    "res_sent  = GraphUtils.to_pydot(g_sent.G, labels=[\"-2\",\"-1\",\"0\",\"1\",\"2\", \"Infection\", \"Death\"])\n",
    "\n",
    "res_emote_dis.write_png('results/emote_test_dis.png')\n",
    "res_emote.write_png('results/emote_test.png')\n",
    "res_sent_dis.write_png('results/sent_test_dis.png')\n",
    "res_sent.write_png('results/sent_test.png')"
   ]
  },
  {
   "cell_type": "code",
   "execution_count": 219,
   "metadata": {},
   "outputs": [
    {
     "data": {
      "text/plain": [
       "(array([0.80275716, 0.13202545]),\n",
       " array([48.08748674]),\n",
       " 2,\n",
       " array([26.26785107,  9.05538514]))"
      ]
     },
     "execution_count": 219,
     "metadata": {},
     "output_type": "execute_result"
    }
   ],
   "source": [
    "np.linalg.lstsq(emote_dis[0:2,:].T, emote_dis[4, :].T, rcond=None) ## H, A -> F"
   ]
  },
  {
   "cell_type": "code",
   "execution_count": 236,
   "metadata": {},
   "outputs": [
    {
     "data": {
      "text/plain": [
       "(array([0.936]), array([69.464]), 1, array([19.36491673]))"
      ]
     },
     "execution_count": 236,
     "metadata": {},
     "output_type": "execute_result"
    }
   ],
   "source": [
    "np.linalg.lstsq(emote_dis[[3],:].T, emote_dis[2, :].T, rcond=None) ## N -> H"
   ]
  },
  {
   "cell_type": "code",
   "execution_count": 273,
   "metadata": {},
   "outputs": [
    {
     "name": "stdout",
     "output_type": "stream",
     "text": [
      "[6, 3, 5, 4, 2, 0, 1]\n",
      "[[ 0.00000000e+00  0.00000000e+00  2.88898313e+00  3.64663521e-01\n",
      "   3.39131796e-01  4.30787182e-03 -1.41651697e+00]\n",
      " [-4.68215077e-01  0.00000000e+00  2.77330714e-01  2.18442475e+00\n",
      "   5.71394554e-02  1.19411825e-03  0.00000000e+00]\n",
      " [ 0.00000000e+00  0.00000000e+00  0.00000000e+00  3.07648578e-01\n",
      "   0.00000000e+00  3.14925983e-03  0.00000000e+00]\n",
      " [ 0.00000000e+00  0.00000000e+00  0.00000000e+00  0.00000000e+00\n",
      "   0.00000000e+00  0.00000000e+00  2.04375777e+00]\n",
      " [ 0.00000000e+00  0.00000000e+00  0.00000000e+00  1.36790309e+00\n",
      "   0.00000000e+00  9.56942218e-03 -1.31789094e+00]\n",
      " [ 0.00000000e+00  0.00000000e+00  0.00000000e+00  0.00000000e+00\n",
      "   0.00000000e+00  0.00000000e+00  6.56692613e+01]\n",
      " [ 0.00000000e+00  0.00000000e+00  0.00000000e+00  0.00000000e+00\n",
      "   0.00000000e+00  0.00000000e+00  0.00000000e+00]]\n"
     ]
    }
   ],
   "source": [
    "from causallearn.search.FCMBased import lingam\n",
    "model = lingam.DirectLiNGAM()\n",
    "model.fit(emote_data.T)\n",
    "\n",
    "print(model.causal_order_)\n",
    "print(model.adjacency_matrix_)\n",
    "\n",
    "#print(model.ancestors_list_)\n"
   ]
  },
  {
   "cell_type": "code",
   "execution_count": 269,
   "metadata": {},
   "outputs": [
    {
     "data": {
      "text/plain": [
       "array([[1.74600e+03, 2.83800e+03, 2.94600e+03, ..., 7.90400e+03,\n",
       "        7.83200e+03, 2.61800e+03],\n",
       "       [1.44200e+03, 2.32800e+03, 2.51800e+03, ..., 5.68900e+03,\n",
       "        5.89400e+03, 1.59000e+03],\n",
       "       [2.58000e+02, 3.82000e+02, 3.65000e+02, ..., 1.67500e+03,\n",
       "        1.55800e+03, 5.27000e+02],\n",
       "       ...,\n",
       "       [4.54800e+03, 6.75500e+03, 7.07200e+03, ..., 7.25800e+03,\n",
       "        6.75900e+03, 2.25100e+03],\n",
       "       [0.00000e+00, 0.00000e+00, 1.00000e+00, ..., 1.82383e+05,\n",
       "        2.19026e+05, 1.11370e+05],\n",
       "       [0.00000e+00, 0.00000e+00, 0.00000e+00, ..., 3.82000e+02,\n",
       "        5.92000e+02, 3.71000e+02]])"
      ]
     },
     "execution_count": 269,
     "metadata": {},
     "output_type": "execute_result"
    }
   ],
   "source": [
    "emote_data"
   ]
  },
  {
   "cell_type": "code",
   "execution_count": 287,
   "metadata": {},
   "outputs": [
    {
     "data": {
      "text/plain": [
       "(1158, 1158)"
      ]
     },
     "execution_count": 287,
     "metadata": {},
     "output_type": "execute_result"
    }
   ],
   "source": [
    "len(covid_data[\"daily_cases\"]),len(covid_data[\"daily_death\"])"
   ]
  },
  {
   "cell_type": "code",
   "execution_count": 295,
   "metadata": {},
   "outputs": [
    {
     "data": {
      "text/plain": [
       "<matplotlib.legend.Legend at 0x7fa4c27070a0>"
      ]
     },
     "execution_count": 295,
     "metadata": {},
     "output_type": "execute_result"
    },
    {
     "data": {
      "image/png": "[encoded data removed]",
      "text/plain": [
       "<Figure size 640x480 with 1 Axes>"
      ]
     },
     "metadata": {},
     "output_type": "display_data"
    }
   ],
   "source": [
    "n = len(covid_data[\"daily_cases\"])\n",
    "x_range = [i for i in range(n)]\n",
    "plt.scatter(x_range, covid_data[\"cases\"] * (1/np.max(covid_data[\"cases\"])), 1, label=\"Infect\")\n",
    "plt.scatter(x_range, covid_data[\"deaths\"]* (1/np.max(covid_data[\"deaths\"])), 1, label=\"death\")\n",
    "plt.legend()"
   ]
  },
  {
   "cell_type": "code",
   "execution_count": 303,
   "metadata": {},
   "outputs": [
    {
     "data": {
      "text/html": [
       "<div>\n",
       "<style scoped>\n",
       "    .dataframe tbody tr th:only-of-type {\n",
       "        vertical-align: middle;\n",
       "    }\n",
       "\n",
       "    .dataframe tbody tr th {\n",
       "        vertical-align: top;\n",
       "    }\n",
       "\n",
       "    .dataframe thead th {\n",
       "        text-align: right;\n",
       "    }\n",
       "</style>\n",
       "<table border=\"1\" class=\"dataframe\">\n",
       "  <thead>\n",
       "    <tr style=\"text-align: right;\">\n",
       "      <th></th>\n",
       "      <th>date</th>\n",
       "      <th>cases</th>\n",
       "      <th>deaths</th>\n",
       "      <th>daily_cases</th>\n",
       "      <th>daily_death</th>\n",
       "    </tr>\n",
       "  </thead>\n",
       "  <tbody>\n",
       "    <tr>\n",
       "      <th>130</th>\n",
       "      <td>2020-05-30</td>\n",
       "      <td>1778668</td>\n",
       "      <td>103775</td>\n",
       "      <td>23397.0</td>\n",
       "      <td>963.0</td>\n",
       "    </tr>\n",
       "    <tr>\n",
       "      <th>131</th>\n",
       "      <td>2020-05-31</td>\n",
       "      <td>1799302</td>\n",
       "      <td>104379</td>\n",
       "      <td>20634.0</td>\n",
       "      <td>604.0</td>\n",
       "    </tr>\n",
       "    <tr>\n",
       "      <th>132</th>\n",
       "      <td>2020-06-01</td>\n",
       "      <td>1821199</td>\n",
       "      <td>105113</td>\n",
       "      <td>21897.0</td>\n",
       "      <td>734.0</td>\n",
       "    </tr>\n",
       "    <tr>\n",
       "      <th>133</th>\n",
       "      <td>2020-06-02</td>\n",
       "      <td>1841990</td>\n",
       "      <td>106195</td>\n",
       "      <td>20791.0</td>\n",
       "      <td>1082.0</td>\n",
       "    </tr>\n",
       "    <tr>\n",
       "      <th>134</th>\n",
       "      <td>2020-06-03</td>\n",
       "      <td>1861977</td>\n",
       "      <td>107184</td>\n",
       "      <td>19987.0</td>\n",
       "      <td>989.0</td>\n",
       "    </tr>\n",
       "    <tr>\n",
       "      <th>135</th>\n",
       "      <td>2020-06-04</td>\n",
       "      <td>1883593</td>\n",
       "      <td>108192</td>\n",
       "      <td>21616.0</td>\n",
       "      <td>1008.0</td>\n",
       "    </tr>\n",
       "    <tr>\n",
       "      <th>136</th>\n",
       "      <td>2020-06-05</td>\n",
       "      <td>1912302</td>\n",
       "      <td>109304</td>\n",
       "      <td>28709.0</td>\n",
       "      <td>1112.0</td>\n",
       "    </tr>\n",
       "    <tr>\n",
       "      <th>137</th>\n",
       "      <td>2020-06-06</td>\n",
       "      <td>1934818</td>\n",
       "      <td>110032</td>\n",
       "      <td>22516.0</td>\n",
       "      <td>728.0</td>\n",
       "    </tr>\n",
       "    <tr>\n",
       "      <th>138</th>\n",
       "      <td>2020-06-07</td>\n",
       "      <td>1953434</td>\n",
       "      <td>110422</td>\n",
       "      <td>18616.0</td>\n",
       "      <td>390.0</td>\n",
       "    </tr>\n",
       "    <tr>\n",
       "      <th>139</th>\n",
       "      <td>2020-06-08</td>\n",
       "      <td>1971641</td>\n",
       "      <td>111144</td>\n",
       "      <td>18207.0</td>\n",
       "      <td>722.0</td>\n",
       "    </tr>\n",
       "    <tr>\n",
       "      <th>140</th>\n",
       "      <td>2020-06-09</td>\n",
       "      <td>1990446</td>\n",
       "      <td>112174</td>\n",
       "      <td>18805.0</td>\n",
       "      <td>1030.0</td>\n",
       "    </tr>\n",
       "    <tr>\n",
       "      <th>141</th>\n",
       "      <td>2020-06-10</td>\n",
       "      <td>2013298</td>\n",
       "      <td>113103</td>\n",
       "      <td>22852.0</td>\n",
       "      <td>929.0</td>\n",
       "    </tr>\n",
       "    <tr>\n",
       "      <th>142</th>\n",
       "      <td>2020-06-11</td>\n",
       "      <td>2036500</td>\n",
       "      <td>113980</td>\n",
       "      <td>23202.0</td>\n",
       "      <td>877.0</td>\n",
       "    </tr>\n",
       "    <tr>\n",
       "      <th>143</th>\n",
       "      <td>2020-06-12</td>\n",
       "      <td>2061993</td>\n",
       "      <td>114759</td>\n",
       "      <td>25493.0</td>\n",
       "      <td>779.0</td>\n",
       "    </tr>\n",
       "    <tr>\n",
       "      <th>144</th>\n",
       "      <td>2020-06-13</td>\n",
       "      <td>2087327</td>\n",
       "      <td>115451</td>\n",
       "      <td>25334.0</td>\n",
       "      <td>692.0</td>\n",
       "    </tr>\n",
       "    <tr>\n",
       "      <th>145</th>\n",
       "      <td>2020-06-14</td>\n",
       "      <td>2106457</td>\n",
       "      <td>115768</td>\n",
       "      <td>19130.0</td>\n",
       "      <td>317.0</td>\n",
       "    </tr>\n",
       "    <tr>\n",
       "      <th>146</th>\n",
       "      <td>2020-06-15</td>\n",
       "      <td>2126574</td>\n",
       "      <td>116216</td>\n",
       "      <td>20117.0</td>\n",
       "      <td>448.0</td>\n",
       "    </tr>\n",
       "    <tr>\n",
       "      <th>147</th>\n",
       "      <td>2020-06-16</td>\n",
       "      <td>2151459</td>\n",
       "      <td>116985</td>\n",
       "      <td>24885.0</td>\n",
       "      <td>769.0</td>\n",
       "    </tr>\n",
       "    <tr>\n",
       "      <th>148</th>\n",
       "      <td>2020-06-17</td>\n",
       "      <td>2177114</td>\n",
       "      <td>117746</td>\n",
       "      <td>25655.0</td>\n",
       "      <td>761.0</td>\n",
       "    </tr>\n",
       "    <tr>\n",
       "      <th>149</th>\n",
       "      <td>2020-06-18</td>\n",
       "      <td>2205173</td>\n",
       "      <td>118473</td>\n",
       "      <td>28059.0</td>\n",
       "      <td>727.0</td>\n",
       "    </tr>\n",
       "  </tbody>\n",
       "</table>\n",
       "</div>"
      ],
      "text/plain": [
       "           date    cases  deaths  daily_cases  daily_death\n",
       "130  2020-05-30  1778668  103775      23397.0        963.0\n",
       "131  2020-05-31  1799302  104379      20634.0        604.0\n",
       "132  2020-06-01  1821199  105113      21897.0        734.0\n",
       "133  2020-06-02  1841990  106195      20791.0       1082.0\n",
       "134  2020-06-03  1861977  107184      19987.0        989.0\n",
       "135  2020-06-04  1883593  108192      21616.0       1008.0\n",
       "136  2020-06-05  1912302  109304      28709.0       1112.0\n",
       "137  2020-06-06  1934818  110032      22516.0        728.0\n",
       "138  2020-06-07  1953434  110422      18616.0        390.0\n",
       "139  2020-06-08  1971641  111144      18207.0        722.0\n",
       "140  2020-06-09  1990446  112174      18805.0       1030.0\n",
       "141  2020-06-10  2013298  113103      22852.0        929.0\n",
       "142  2020-06-11  2036500  113980      23202.0        877.0\n",
       "143  2020-06-12  2061993  114759      25493.0        779.0\n",
       "144  2020-06-13  2087327  115451      25334.0        692.0\n",
       "145  2020-06-14  2106457  115768      19130.0        317.0\n",
       "146  2020-06-15  2126574  116216      20117.0        448.0\n",
       "147  2020-06-16  2151459  116985      24885.0        769.0\n",
       "148  2020-06-17  2177114  117746      25655.0        761.0\n",
       "149  2020-06-18  2205173  118473      28059.0        727.0"
      ]
     },
     "execution_count": 303,
     "metadata": {},
     "output_type": "execute_result"
    }
   ],
   "source": [
    "covid_data.iloc[130:150]"
   ]
  },
  {
   "cell_type": "markdown",
   "metadata": {},
   "source": [
    "## Regression"
   ]
  },
  {
   "cell_type": "code",
   "execution_count": 19,
   "metadata": {},
   "outputs": [],
   "source": [
    "from causallearn.graph.GraphNode import GraphNode\n"
   ]
  },
  {
   "cell_type": "code",
   "execution_count": 21,
   "metadata": {},
   "outputs": [
    {
     "data": {
      "text/plain": [
       "<causallearn.graph.GraphNode.GraphNode at 0x7fedb82801c0>"
      ]
     },
     "execution_count": 21,
     "metadata": {},
     "output_type": "execute_result"
    }
   ],
   "source": [
    "GraphNode(1)"
   ]
  },
  {
   "cell_type": "code",
   "execution_count": null,
   "metadata": {},
   "outputs": [],
   "source": []
  }
 ],
 "metadata": {
  "kernelspec": {
   "display_name": "pDL",
   "language": "python",
   "name": "python3"
  },
  "language_info": {
   "codemirror_mode": {
    "name": "ipython",
    "version": 3
   },
   "file_extension": ".py",
   "mimetype": "text/x-python",
   "name": "python",
   "nbconvert_exporter": "python",
   "pygments_lexer": "ipython3",
   "version": "3.8.10"
  }
 },
 "nbformat": 4,
 "nbformat_minor": 2
}
