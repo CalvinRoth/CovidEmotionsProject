{
 "cells": [
  {
   "cell_type": "code",
   "execution_count": 31,
   "metadata": {},
   "outputs": [],
   "source": [
    "import pandas as pd \n",
    "import numpy as np \n",
    "from scipy.signal import csd\n",
    "import networkx as nx \n",
    "import matplotlib.pyplot as plt\n",
    "import datetime \n",
    "from numpy.linalg import inv\n",
    "import itertools\n",
    "from causallearn.search.ConstraintBased.PC import pc\n",
    "from causallearn.search.ConstraintBased.FCI import fci\n",
    "from causallearn.utils.GraphUtils import GraphUtils\n",
    "from causallearn.utils.PCUtils.BackgroundKnowledge import BackgroundKnowledge\n",
    "from causallearn.utils.PCUtils.BackgroundKnowledgeOrientUtils import \\\n",
    "    orient_by_background_knowledge"
   ]
  },
  {
   "cell_type": "code",
   "execution_count": 32,
   "metadata": {},
   "outputs": [],
   "source": [
    "covid_data= pd.read_csv(\"data/us.csv\")\n",
    "n_rows = len(covid_data)\n",
    "\n",
    "daily_case_avg = np.zeros(n_rows)\n",
    "daily_death_avg = np.zeros(n_rows)\n",
    "for i in range(n_rows):\n",
    "    case = 0\n",
    "    deaths = 0 \n",
    "    if(i == 0):\n",
    "        continue\n",
    "    elif(i < 7):\n",
    "        case  = np.mean(covid_data[\"cases\"][:i])\n",
    "        deaths = np.mean(covid_data[\"deaths\"][:i])\n",
    "    else:\n",
    "        case  = np.mean(covid_data[\"cases\"][i-7:i])\n",
    "        deaths = np.mean(covid_data[\"deaths\"][i-7:i])     \n",
    "    daily_case_avg[i] = case \n",
    "    daily_death_avg[i] = deaths \n",
    "covid_data[\"daily_death\"] = covid_data[\"deaths\"] - daily_death_avg\n",
    "covid_data[\"daily_case\"] = covid_data[\"cases\"] - daily_case_avg\n"
   ]
  },
  {
   "cell_type": "code",
   "execution_count": 33,
   "metadata": {},
   "outputs": [
    {
     "data": {
      "text/html": [
       "<div>\n",
       "<style scoped>\n",
       "    .dataframe tbody tr th:only-of-type {\n",
       "        vertical-align: middle;\n",
       "    }\n",
       "\n",
       "    .dataframe tbody tr th {\n",
       "        vertical-align: top;\n",
       "    }\n",
       "\n",
       "    .dataframe thead th {\n",
       "        text-align: right;\n",
       "    }\n",
       "</style>\n",
       "<table border=\"1\" class=\"dataframe\">\n",
       "  <thead>\n",
       "    <tr style=\"text-align: right;\">\n",
       "      <th></th>\n",
       "      <th>date</th>\n",
       "      <th>cases</th>\n",
       "      <th>deaths</th>\n",
       "      <th>daily_death</th>\n",
       "      <th>daily_case</th>\n",
       "    </tr>\n",
       "  </thead>\n",
       "  <tbody>\n",
       "    <tr>\n",
       "      <th>0</th>\n",
       "      <td>2020-01-21</td>\n",
       "      <td>1</td>\n",
       "      <td>0</td>\n",
       "      <td>0.000000</td>\n",
       "      <td>1.000000</td>\n",
       "    </tr>\n",
       "    <tr>\n",
       "      <th>1</th>\n",
       "      <td>2020-01-22</td>\n",
       "      <td>1</td>\n",
       "      <td>0</td>\n",
       "      <td>0.000000</td>\n",
       "      <td>0.000000</td>\n",
       "    </tr>\n",
       "    <tr>\n",
       "      <th>2</th>\n",
       "      <td>2020-01-23</td>\n",
       "      <td>1</td>\n",
       "      <td>0</td>\n",
       "      <td>0.000000</td>\n",
       "      <td>0.000000</td>\n",
       "    </tr>\n",
       "    <tr>\n",
       "      <th>3</th>\n",
       "      <td>2020-01-24</td>\n",
       "      <td>2</td>\n",
       "      <td>0</td>\n",
       "      <td>0.000000</td>\n",
       "      <td>1.000000</td>\n",
       "    </tr>\n",
       "    <tr>\n",
       "      <th>4</th>\n",
       "      <td>2020-01-25</td>\n",
       "      <td>3</td>\n",
       "      <td>0</td>\n",
       "      <td>0.000000</td>\n",
       "      <td>1.750000</td>\n",
       "    </tr>\n",
       "    <tr>\n",
       "      <th>...</th>\n",
       "      <td>...</td>\n",
       "      <td>...</td>\n",
       "      <td>...</td>\n",
       "      <td>...</td>\n",
       "      <td>...</td>\n",
       "    </tr>\n",
       "    <tr>\n",
       "      <th>1153</th>\n",
       "      <td>2023-03-19</td>\n",
       "      <td>103784916</td>\n",
       "      <td>1133826</td>\n",
       "      <td>900.000000</td>\n",
       "      <td>113569.714286</td>\n",
       "    </tr>\n",
       "    <tr>\n",
       "      <th>1154</th>\n",
       "      <td>2023-03-20</td>\n",
       "      <td>103794703</td>\n",
       "      <td>1133964</td>\n",
       "      <td>772.571429</td>\n",
       "      <td>88109.142857</td>\n",
       "    </tr>\n",
       "    <tr>\n",
       "      <th>1155</th>\n",
       "      <td>2023-03-21</td>\n",
       "      <td>103813076</td>\n",
       "      <td>1134177</td>\n",
       "      <td>715.142857</td>\n",
       "      <td>71710.000000</td>\n",
       "    </tr>\n",
       "    <tr>\n",
       "      <th>1156</th>\n",
       "      <td>2023-03-22</td>\n",
       "      <td>103864888</td>\n",
       "      <td>1134913</td>\n",
       "      <td>1184.428571</td>\n",
       "      <td>89007.142857</td>\n",
       "    </tr>\n",
       "    <tr>\n",
       "      <th>1157</th>\n",
       "      <td>2023-03-23</td>\n",
       "      <td>103910034</td>\n",
       "      <td>1135343</td>\n",
       "      <td>1344.285714</td>\n",
       "      <td>111897.857143</td>\n",
       "    </tr>\n",
       "  </tbody>\n",
       "</table>\n",
       "<p>1158 rows × 5 columns</p>\n",
       "</div>"
      ],
      "text/plain": [
       "            date      cases   deaths  daily_death     daily_case\n",
       "0     2020-01-21          1        0     0.000000       1.000000\n",
       "1     2020-01-22          1        0     0.000000       0.000000\n",
       "2     2020-01-23          1        0     0.000000       0.000000\n",
       "3     2020-01-24          2        0     0.000000       1.000000\n",
       "4     2020-01-25          3        0     0.000000       1.750000\n",
       "...          ...        ...      ...          ...            ...\n",
       "1153  2023-03-19  103784916  1133826   900.000000  113569.714286\n",
       "1154  2023-03-20  103794703  1133964   772.571429   88109.142857\n",
       "1155  2023-03-21  103813076  1134177   715.142857   71710.000000\n",
       "1156  2023-03-22  103864888  1134913  1184.428571   89007.142857\n",
       "1157  2023-03-23  103910034  1135343  1344.285714  111897.857143\n",
       "\n",
       "[1158 rows x 5 columns]"
      ]
     },
     "execution_count": 33,
     "metadata": {},
     "output_type": "execute_result"
    }
   ],
   "source": [
    "covid_data"
   ]
  },
  {
   "cell_type": "code",
   "execution_count": 34,
   "metadata": {},
   "outputs": [
    {
     "data": {
      "text/plain": [
       "963"
      ]
     },
     "execution_count": 34,
     "metadata": {},
     "output_type": "execute_result"
    }
   ],
   "source": [
    "covid_data[\"deaths\"][130] - covid_data[\"deaths\"][129]"
   ]
  },
  {
   "cell_type": "code",
   "execution_count": 35,
   "metadata": {},
   "outputs": [
    {
     "data": {
      "text/plain": [
       "4243.142857142855"
      ]
     },
     "execution_count": 35,
     "metadata": {},
     "output_type": "execute_result"
    }
   ],
   "source": [
    "covid_data[\"daily_death\"][130]"
   ]
  },
  {
   "cell_type": "code",
   "execution_count": 36,
   "metadata": {},
   "outputs": [
    {
     "data": {
      "text/plain": [
       "[<matplotlib.lines.Line2D at 0x7f634441de50>]"
      ]
     },
     "execution_count": 36,
     "metadata": {},
     "output_type": "execute_result"
    },
    {
     "data": {
      "image/png": "[encoded data removed]",
      "text/plain": [
       "<Figure size 640x480 with 1 Axes>"
      ]
     },
     "metadata": {},
     "output_type": "display_data"
    }
   ],
   "source": [
    "plt.plot(covid_data[\"daily_case\"])\n",
    "#plt.plot(covid_data[\"deaths\"])"
   ]
  },
  {
   "cell_type": "code",
   "execution_count": 37,
   "metadata": {},
   "outputs": [],
   "source": [
    "have_ran = True \n",
    "def dateNum(date):\n",
    "    m_day = datetime.date(2022,6,2)\n",
    "    parts = date.split(\"-\")\n",
    "    day = datetime.date(int(parts[0]),int(parts[1]),int(parts[2]))\n",
    "    return (m_day - day).days\n",
    "if not have_ran:\n",
    "    tweets = pd.read_csv(\"data/tweetid_userid_keyword_sentiments_emotions_United States.csv\")\n",
    "    tweets[\"emotion\"] = tweets[\"emotion\"].fillna(\"N\")\n",
    "    tweets_data = dict() \n",
    "    def convertor(x):\n",
    "        if(x in [-2,-1,0,1,2]):\n",
    "            return [-2,-1,0,1,2].index(x)\n",
    "        elif(x in [\"N\", \"S\", \"H\", \"A\",\"F\"]):\n",
    "            return [\"N\", \"S\", \"H\", \"A\",\"F\"].index(x)+5\n",
    "        else:\n",
    "            print(\"Oh no this shound't happen at \", x )\n",
    "            \n",
    "\n",
    "    for i in range(n_tweets):\n",
    "        day = tweets[\"tweet_timestamp\"][i].split(\" \")[0]\n",
    "        sent = tweets[\"sentiment\"][i] \n",
    "        emote = tweets[\"emotion\"][i] \n",
    "        if(day in tweets_data):\n",
    "            tweets_data[day][convertor(sent)] += 1\n",
    "            tweets_data[day][convertor(emote)] += 1\n",
    "        else: \n",
    "            arr = [0 for i in range(10)]\n",
    "            arr[convertor(sent)] = 1 \n",
    "            arr[convertor(emote)] = 1\n",
    "            tweets_data[day] = arr.copy() \n",
    "    n = len(tweets_data)\n",
    "    dates = [\"\" for i in range(n)] \n",
    "\n",
    "\n",
    "    measurement = np.zeros((n, 10))\n",
    "\n",
    "    for tweet in tweets_data:\n",
    "        i = dateNum(tweet)\n",
    "        measurement[i, :] = tweets_data[tweet]\n",
    "        dates[i] = tweet \n",
    "    twitter_cleaned = pd.DataFrame(measurement,\n",
    "                                columns=[\"-2_sent\",\"-1_sent\",\"0_sent\",\n",
    "                                            \"1_sent\",\"2_sent\",\n",
    "                                            \"N\", \"S\", \"H\", \"A\",\"F\"] )\n",
    "    twitter_cleaned.insert(0, \"Date\", dates)\n",
    "    twitter_cleaned.to_csv(\"data/twitter_aggr.csv\")\n",
    "else: \n",
    "    twitter_data = pd.read_csv(\"data/twitter_aggr.csv\")"
   ]
  },
  {
   "cell_type": "code",
   "execution_count": 38,
   "metadata": {},
   "outputs": [],
   "source": [
    "emotions = [\"N\", \"S\", \"H\", \"A\", \"F\"]\n",
    "sents = [\"-2_sent\", \"-1_sent\", \"0_sent\", \"1_sent\", \"2_sent\"]"
   ]
  },
  {
   "cell_type": "code",
   "execution_count": 178,
   "metadata": {},
   "outputs": [],
   "source": [
    "def filter_foo(val, data):\n",
    "    if(val > np.mean(data)):\n",
    "        return 1 \n",
    "    else: \n",
    "        return 0\n",
    "    # if(val < np.quantile(data, 0.25)):\n",
    "    #     return 1 \n",
    "    # elif(val < np.quantile(data, 0.5)):\n",
    "    #     return 2 \n",
    "    # elif(val < np.quantile(data, 0.75)):\n",
    "    #     return 3 \n",
    "    # else:\n",
    "    #     return 4\n",
    "\n",
    "def average_sent(row):\n",
    "    weights = [-2, -1, 0, 1, 2]\n",
    "    labels = [\"-2_sent\", \"-1_sent\", \"0_sent\", \"1_sent\", \"2_sent\"]\n",
    "    total = sum( weights[i]*row[labels[i]] for i in range(5))\n",
    "    return round(total)\n",
    "#keys =  {0 : \"-2_sent\", 1 : \"-1_sent\", 2 : \"0_sent\", 3 : \"1_sent\", 4 : \"2_sent\" \n",
    " #        ,7 : \"A\", 8 : \"H\", 9 : \"S\", 10 : \"N\", 11 : \"F\"}\n",
    "keys_emote = {0 : \"A\", 1 : \"H\", 2 : \"S\", 3 : \"N\", 4 : \"F\" }\n",
    "keys_sent = {0 : \"-2_sent\", 1: \"-1_sent\", 2:\"0_sent\", 3:\"1_sent\", 4:\"2_sent\"}\n",
    "n = len(keys_emote)+2\n",
    "data = np.zeros((n,len(twitter_data[\"A\"])))\n",
    "emote_data =  np.zeros((n,len(twitter_data[\"A\"])))\n",
    "sent_data =  np.zeros((n,len(twitter_data[\"A\"])))\n",
    "emote_dis = np.zeros((n, len(twitter_data[\"A\"])))\n",
    "sent_dis = np.zeros((n, len(twitter_data[\"A\"])))\n",
    "\n",
    "totals = np.sum(twitter_data[[\"A\",\"S\",\"F\",\"H\",\"N\"]], axis=1)\n",
    "total_sent = [average_sent(twitter_data.iloc[i]) for i in range(len(twitter_data[\"A\"]))][::-1]\n",
    "for i in range(n):\n",
    "    if(i==5):\n",
    "        emote_data[i,:] = covid_data[\"daily_case\"][7:864]\n",
    "        sent_data[i,:] = covid_data[\"daily_case\"][7:864]\n",
    "\n",
    "        emote_dis[i,:] = [filter_foo(val,\n",
    "                                covid_data[\"daily_case\"][7:864]) for val in covid_data[\"daily_case\"][7:864]]\n",
    "        sent_dis[i,:] = [filter_foo(val,\n",
    "                                covid_data[\"daily_case\"][7:864]) for val in covid_data[\"daily_case\"][7:864]]\n",
    "        #emote_dis[i+7, :] = [filter_foo(val, covid_data[\"daily_cases\"][7:864]) for val in covid_data[\"daily_cases\"][7:864].rolling(7).sum().fillna(0)]\n",
    "\n",
    "    elif(i==6):\n",
    "        emote_data[i,:] = covid_data[\"daily_death\"][7:864]\n",
    "        sent_data[i,:] = covid_data[\"daily_death\"][7:864]\n",
    "\n",
    "        emote_dis[i,:] = [filter_foo(val,\n",
    "                                covid_data[\"deaths\"][7:864]) for val in covid_data[\"deaths\"][7:864]]\n",
    "        sent_dis[i,:] = [filter_foo(val,\n",
    "                                covid_data[\"daily_death\"][7:864]) for val in covid_data[\"daily_death\"][7:864]]\n",
    "        #remote_dis[i+7, :] = [filter_foo(val, covid_data[\"daily_death\"][7:864]) for val in covid_data[\"daily_death\"][7:864].rolling(7).sum().fillna(0)]\n",
    "\n",
    "    # \"elif(i==7):\n",
    "    #    emote_dis[i, :] = [filter_foo(val, np.sum(twitter_data[[\"A\",\"F\",\"S\",\"N\",\"H\"]],axis=1)) for val in np.sum(twitter_data[[\"A\",\"F\",\"S\",\"N\",\"H\"]][::-1],axis=1)]\"\n",
    "\n",
    "    else: \n",
    "        emote_data[i,:] = twitter_data[keys_emote[i]][::-1]\n",
    "        sent_data[i,:] = twitter_data[keys_sent[i]][::-1]\n",
    "        emote_dis[i,:] = [filter_foo(val,\n",
    "                                twitter_data[keys_emote[i]]) for val in twitter_data[keys_emote[i]][::-1]]\n",
    "        sent_dis[i,:] = [filter_foo(val,\n",
    "                                twitter_data[keys_sent[i]]) for val in twitter_data[keys_sent[i]][::-1]]\n",
    "        \n",
    "        #emote_dis[i+7, :] = [filter_foo(val, twitter_data[keys_emote[i]]) for val in twitter_data[keys_emote[i]][::-1].rolling(7).sum().fillna(0)]\n",
    "\n",
    "df_emote_dis = pd.DataFrame(emote_dis.T, columns=[\"A\", \"S\", \"F\", \"H\",\"N\",\"sick\",\"deaths\"])"
   ]
  },
  {
   "cell_type": "code",
   "execution_count": 179,
   "metadata": {},
   "outputs": [
    {
     "data": {
      "text/plain": [
       "0       8058.0\n",
       "1      25473.0\n",
       "2      26312.0\n",
       "3      20050.0\n",
       "4      20173.0\n",
       "        ...   \n",
       "852    10454.0\n",
       "853    14333.0\n",
       "854    15063.0\n",
       "855    14628.0\n",
       "856     9327.0\n",
       "Length: 857, dtype: float64"
      ]
     },
     "execution_count": 179,
     "metadata": {},
     "output_type": "execute_result"
    }
   ],
   "source": [
    "np.sum(twitter_data[[\"A\",\"F\",\"S\",\"N\",\"H\"]],axis=1)"
   ]
  },
  {
   "cell_type": "code",
   "execution_count": 180,
   "metadata": {},
   "outputs": [],
   "source": [
    "def insert_diag(M):\n",
    "    n = len(M)\n",
    "    A = np.zeros((n+1,n+1), dtype=np.complex64)\n",
    "    for i in range(n):\n",
    "        for j in range(0,i):\n",
    "            A[i,j] = M[i,j] \n",
    "        for j in range(i+1, n+1):\n",
    "            A[i,j] = M[i, j-1]\n",
    "    return A \n",
    "### 60 is an arbitrary frequency to check\n",
    "def wiener_project(csd_data, freq=60):\n",
    "    n = len(csd_data)\n",
    "    result = np.zeros((n,n), dtype=complex)\n",
    "    for i in range(n):\n",
    "        mxx = np.zeros((n-1,n-1), dtype=np.complex64)\n",
    "        c = 0 \n",
    "        for j in range(n):\n",
    "            if(j==i): continue\n",
    "            d = 0\n",
    "            for k in range(n):\n",
    "                if(k==i): continue\n",
    "                mxx[c,d] = csd_data[j,k,freq]\n",
    "                d += 1\n",
    "            c += 1 \n",
    "        fil = [j for j in range(n) if j!=i]\n",
    "\n",
    "        result[i, fil] =  csd_data[i,fil,freq] @ inv(mxx)\n",
    "    return result\n",
    "\n"
   ]
  },
  {
   "cell_type": "code",
   "execution_count": 181,
   "metadata": {},
   "outputs": [],
   "source": [
    "def adj(data, i, ex=-1):\n",
    "    lst = []\n",
    "    for j in range(6):\n",
    "        if(j == ex or j == i):\n",
    "            continue\n",
    "        if(data[i,j] == 1):\n",
    "            lst.append(j)\n",
    "    return lst \n",
    "\n",
    "def max_adj(data):\n",
    "    adjs = np.sum(data, axis=0)\n",
    "    return np.max(adjs) \n",
    "\n",
    "def project(csd_data, data, i, subspace_idx,freq=45):\n",
    "    n = len(subspace_idx)\n",
    "    v =   csd_data[i, subspace_idx]\n",
    "    M = np.zeros((n,n), np.complex64)\n",
    "    for j in range(n):\n",
    "        for k in range(n):\n",
    "            M[j,k] = csd_data[subspace_idx[j], subspace_idx[k]]\n",
    "    Minv = inv(M)\n",
    "    return v @ Minv @ data[:, subspace_idx].T\n",
    "\n",
    "\n",
    "\n",
    "def seps(csd_data, data , x : int ,y : int , subset : list ):\n",
    "    xz = project(csd_data, data, x, subset)\n",
    "    xyz = project(csd_data, data, x, [y] + subset )\n",
    "    return np.linalg.norm( xyz - xz) < 350 ## not sure if it should be properly 0 or just small \n",
    "\n",
    "def pc1(csd_data,data): \n",
    "    n = len(data)\n",
    "    G1 = np.ones((n,n)) - np.eye(n,n)\n",
    "    seperators = {}\n",
    "    depth = 0\n",
    "    while(max_adj(G1) >= depth ): \n",
    "        for x in range(n):\n",
    "            for y in range(n):\n",
    "                if(G1[x,y] == 0): continue \n",
    "                if(sum(G1[x,:]) - 1 >= depth ): \n",
    "                    lst = adj(G1, x, y)\n",
    "                    for s in itertools.combinations(lst, depth):\n",
    "                        if(seps(csd_data,data, x, y, list(s))):\n",
    "                            G1[x,y] = 0 \n",
    "                            G1[y,x] = 0\n",
    "                            seperators[(x,y)] = s\n",
    "                            seperators[(y,x)] = s\n",
    "        depth = depth + 1 \n",
    "    ### using 2 for later parts to denote the edge is of an undirected type\n",
    "    return G1, seperators \n",
    "\n",
    "import copy\n",
    "\n",
    "\n",
    "## check if orienting j -> i makes an immortality \n",
    "def immoral_check(G, i, j):\n",
    "    n = len(G)\n",
    "    for a in range(n):\n",
    "        ## cond: j -> i <- a and not j - a\n",
    "        if(G[a,i] == 1 and ( G[a,j]==0 and G[j,a]==0 )):\n",
    "            return True \n",
    "    return False \n",
    "\n",
    "def pc2(G1, sepers):\n",
    "    n = len(G1)\n",
    "    G2 = copy.deepcopy(G1)\n",
    "    for i in range(n):\n",
    "        for j in range(n):\n",
    "            if(i==j):continue\n",
    "            for k in range(n):\n",
    "                if(j==k or i==k):continue\n",
    "                if(G1[i,j] and G1[j,k] and not G1[i,k]):\n",
    "                    if(j not in sepers[(i,k)]): \n",
    "                        G2[i,j] = G2[k,j] = 1 \n",
    "                        G2[j,i] = G2[j,k] = 0 \n",
    "    for i in range(n):\n",
    "        for j in range(n):\n",
    "            ## Edge is undirected\n",
    "            if(G2[i,j] == 2):\n",
    "                if(immoral_check(G2,i,j)):\n",
    "                    G2[i,j] = 1 \n",
    "                    G2[j,i] = 0 \n",
    "    return G2 \n"
   ]
  },
  {
   "cell_type": "code",
   "execution_count": 182,
   "metadata": {},
   "outputs": [
    {
     "data": {
      "application/vnd.jupyter.widget-view+json": {
       "model_id": "61489393fb174c07b67386182a7d8a0d",
       "version_major": 2,
       "version_minor": 0
      },
      "text/plain": [
       "  0%|          | 0/7 [00:00<?, ?it/s]"
      ]
     },
     "metadata": {},
     "output_type": "display_data"
    },
    {
     "name": "stdout",
     "output_type": "stream",
     "text": [
      "X1 --> X5\n",
      "X4 --> X2\n",
      "X2 --> X5\n",
      "X3 --> X7\n"
     ]
    },
    {
     "data": {
      "application/vnd.jupyter.widget-view+json": {
       "model_id": "951818ac66c14dd2a53442a9c87a76f2",
       "version_major": 2,
       "version_minor": 0
      },
      "text/plain": [
       "  0%|          | 0/7 [00:00<?, ?it/s]"
      ]
     },
     "metadata": {},
     "output_type": "display_data"
    },
    {
     "name": "stdout",
     "output_type": "stream",
     "text": [
      "X2 --> X4\n"
     ]
    },
    {
     "data": {
      "application/vnd.jupyter.widget-view+json": {
       "model_id": "63a50a7ad81049adaba97d4cf9895d44",
       "version_major": 2,
       "version_minor": 0
      },
      "text/plain": [
       "  0%|          | 0/7 [00:00<?, ?it/s]"
      ]
     },
     "metadata": {},
     "output_type": "display_data"
    },
    {
     "data": {
      "application/vnd.jupyter.widget-view+json": {
       "model_id": "b9de5a7a600f4c45a741939d81705502",
       "version_major": 2,
       "version_minor": 0
      },
      "text/plain": [
       "  0%|          | 0/7 [00:00<?, ?it/s]"
      ]
     },
     "metadata": {},
     "output_type": "display_data"
    }
   ],
   "source": [
    "# n1 = GraphNode('5')\n",
    "# n2 = GraphNode('6')\n",
    "# bk = BackgroundKnowledge().add_required_by_node(n1,n2)\n",
    "#g_emote_dis, _ = fci(emote_dis.T, background_knowledge=bk)\n",
    "g_emote_dis, e = fci(emote_dis.T, alpha=0.05) \n",
    "\n",
    "g_emote, _ = fci(emote_data.T)\n",
    "g_sent, _ = fci(sent_data.T)\n",
    "g_sent_dis, _ = fci(sent_dis.T)\n",
    "res_emote_dis = GraphUtils.to_pydot(g_emote_dis, labels=[\"Angry\", \"Happy\", \"Sad\", \"Neutral\", \"Fear\", \"Infection\", \"Death\"\n",
    "                                                         ])\n",
    "res_emote  = GraphUtils.to_pydot(g_emote, labels=[\"Angry\", \"Happy\", \"Sad\", \"Neutral\", \"Fear\", \"Infection\", \"Death\"])\n",
    "res_sent_dis  = GraphUtils.to_pydot(g_sent_dis, labels=[\"-2\",\"-1\",\"0\",\"1\",\"2\", \"Infection\", \"Death\"])\n",
    "res_sent  = GraphUtils.to_pydot(g_sent, labels=[\"-2\",\"-1\",\"0\",\"1\",\"2\", \"Infection\", \"Death\"])\n",
    "\n",
    "res_emote_dis.write_png('results/emote_test_dis.png')\n",
    "res_emote.write_png('results/emote_test.png')\n",
    "res_sent_dis.write_png('results/sent_test_dis.png')\n",
    "res_sent.write_png('results/sent_test.png')\n"
   ]
  },
  {
   "cell_type": "code",
   "execution_count": 183,
   "metadata": {},
   "outputs": [
    {
     "data": {
      "application/vnd.jupyter.widget-view+json": {
       "model_id": "fb9c3c36b93a4ce3bf346e052314b61e",
       "version_major": 2,
       "version_minor": 0
      },
      "text/plain": [
       "  0%|          | 0/7 [00:00<?, ?it/s]"
      ]
     },
     "metadata": {},
     "output_type": "display_data"
    },
    {
     "data": {
      "application/vnd.jupyter.widget-view+json": {
       "model_id": "7209fa8e8d2c4582abda552a68b22b7d",
       "version_major": 2,
       "version_minor": 0
      },
      "text/plain": [
       "  0%|          | 0/7 [00:00<?, ?it/s]"
      ]
     },
     "metadata": {},
     "output_type": "display_data"
    },
    {
     "data": {
      "application/vnd.jupyter.widget-view+json": {
       "model_id": "ea694fd8a94c4d6e8fb6478d4bb6ebb6",
       "version_major": 2,
       "version_minor": 0
      },
      "text/plain": [
       "  0%|          | 0/7 [00:00<?, ?it/s]"
      ]
     },
     "metadata": {},
     "output_type": "display_data"
    },
    {
     "data": {
      "application/vnd.jupyter.widget-view+json": {
       "model_id": "fa15de85ffe643f18e5c967021f92874",
       "version_major": 2,
       "version_minor": 0
      },
      "text/plain": [
       "  0%|          | 0/7 [00:00<?, ?it/s]"
      ]
     },
     "metadata": {},
     "output_type": "display_data"
    }
   ],
   "source": [
    "# n1 = GraphNode('5')\n",
    "# n2 = GraphNode('6')\n",
    "# bk = BackgroundKnowledge().add_required_by_node(n1,n2)\n",
    "g_emote_dis = pc(emote_dis.T)\n",
    "g_emote = pc(emote_data.T)\n",
    "g_sent = pc(sent_data.T)\n",
    "g_sent_dis = pc(sent_dis.T)\n",
    "res_emote_dis = GraphUtils.to_pydot(g_emote_dis.G, labels=[\"Angry\", \"Happy\", \"Sad\", \"Neutral\", \"Fear\", \"Infection\", \"Death\"])\n",
    "res_emote  = GraphUtils.to_pydot(g_emote.G, labels=[\"Angry\", \"Happy\", \"Sad\", \"Neutral\", \"Fear\", \"Infection\", \"Death\"])\n",
    "res_sent_dis  = GraphUtils.to_pydot(g_sent_dis.G, labels=[\"-2\",\"-1\",\"0\",\"1\",\"2\", \"Infection\", \"Death\"])\n",
    "res_sent  = GraphUtils.to_pydot(g_sent.G, labels=[\"-2\",\"-1\",\"0\",\"1\",\"2\", \"Infection\", \"Death\"])\n",
    "\n",
    "res_emote_dis.write_png('results/emote_test_dis_pc.png')\n",
    "res_emote.write_png('results/emote_test_pc.png')\n",
    "res_sent_dis.write_png('results/sent_test_dis_pc.png')\n",
    "res_sent.write_png('results/sent_test_pc.png')"
   ]
  },
  {
   "cell_type": "markdown",
   "metadata": {},
   "source": [
    "## Regression"
   ]
  },
  {
   "cell_type": "code",
   "execution_count": 105,
   "metadata": {},
   "outputs": [],
   "source": [
    "def get_splits(split=0.8):\n",
    "    train_set = []\n",
    "    test_set = []\n",
    "    split = 0.8\n",
    "    for i in range(857):\n",
    "        coin = np.random.random()\n",
    "        if(coin < split):\n",
    "            train_set.append(i)\n",
    "        else:\n",
    "            test_set.append(i)\n",
    "    return train_set, test_set\n"
   ]
  },
  {
   "cell_type": "code",
   "execution_count": 50,
   "metadata": {},
   "outputs": [],
   "source": [
    "from sklearn.linear_model import LogisticRegression"
   ]
  },
  {
   "cell_type": "code",
   "execution_count": 58,
   "metadata": {},
   "outputs": [
    {
     "data": {
      "text/plain": [
       "0.9421052631578948"
      ]
     },
     "execution_count": 58,
     "metadata": {},
     "output_type": "execute_result"
    }
   ],
   "source": [
    "clf = LogisticRegression(random_state=0).fit(df_emote_dis[[\"A\",\"H\"]].iloc[train_set], df_emote_dis[\"F\"].iloc[train_set])\n",
    "clf.score(df_emote_dis[[\"A\",\"H\"]].iloc[test_set], df_emote_dis[\"F\"].iloc[test_set])"
   ]
  },
  {
   "cell_type": "code",
   "execution_count": 64,
   "metadata": {},
   "outputs": [
    {
     "data": {
      "text/plain": [
       "0.8"
      ]
     },
     "execution_count": 64,
     "metadata": {},
     "output_type": "execute_result"
    }
   ],
   "source": [
    "clf = LogisticRegression(random_state=0).fit(df_emote_dis[[\"A\",\"sick\"]].iloc[train_set], df_emote_dis[\"deaths\"].iloc[train_set])\n",
    "clf.score(df_emote_dis[[\"A\",\"sick\"]].iloc[test_set], df_emote_dis[\"deaths\"].iloc[test_set])"
   ]
  },
  {
   "cell_type": "code",
   "execution_count": 95,
   "metadata": {},
   "outputs": [],
   "source": [
    "keys = [\"A\", \"H\", \"S\", \"N\", \"F\", \"sick\", \"deaths\"]\n",
    "predictors = {\"A\" : [], \"H\" : [], \"S\" : [], \"N\" : [], \"F\" : [], \"sick\":[], \"deaths\":[]}\n",
    "for i in range(7):\n",
    "    for j in range(7):\n",
    "        if(g_emote_dis.graph[i,j] == -1 and g_emote_dis.graph[j,i] == 1):\n",
    "            predictors[keys[j]].append( keys[i])\n"
   ]
  },
  {
   "cell_type": "code",
   "execution_count": 102,
   "metadata": {},
   "outputs": [],
   "source": [
    "shifted_back = np.zeros(emote_dis.shape)\n",
    "shifted_back[:, 1:] = emote_dis[:, 0:856]\n",
    "shifted_back = pd.DataFrame(shifted_back.T, columns=[\"A\", \"S\", \"F\", \"H\",\"N\",\"sick\",\"deaths\"])"
   ]
  },
  {
   "cell_type": "code",
   "execution_count": 123,
   "metadata": {},
   "outputs": [],
   "source": [
    "n_rounds = 20 \n",
    "relations = [\"H\", \"F\", \"deaths\"]\n",
    "accuracies = [0,0,0]\n",
    "for i in range(20):\n",
    "    for j in range(3):\n",
    "        train_set, test_set = get_splits(.7)\n",
    "        r = relations[j]\n",
    "        clf = LogisticRegression(random_state=0).fit(df_emote_dis[predictors[r]].iloc[train_set], df_emote_dis[r].iloc[train_set])\n",
    "        accuracies[j] += (1/n_rounds) * clf.score(df_emote_dis[predictors[r]].iloc[test_set], df_emote_dis[r].iloc[test_set])"
   ]
  },
  {
   "cell_type": "code",
   "execution_count": 124,
   "metadata": {},
   "outputs": [
    {
     "data": {
      "text/plain": [
       "[0.8672337427437752, 0.9360467341943575, 0.760096704969958]"
      ]
     },
     "execution_count": 124,
     "metadata": {},
     "output_type": "execute_result"
    }
   ],
   "source": [
    "accuracies"
   ]
  },
  {
   "cell_type": "code",
   "execution_count": 135,
   "metadata": {},
   "outputs": [
    {
     "data": {
      "text/html": [
       "<div>\n",
       "<style scoped>\n",
       "    .dataframe tbody tr th:only-of-type {\n",
       "        vertical-align: middle;\n",
       "    }\n",
       "\n",
       "    .dataframe tbody tr th {\n",
       "        vertical-align: top;\n",
       "    }\n",
       "\n",
       "    .dataframe thead th {\n",
       "        text-align: right;\n",
       "    }\n",
       "</style>\n",
       "<table border=\"1\" class=\"dataframe\">\n",
       "  <thead>\n",
       "    <tr style=\"text-align: right;\">\n",
       "      <th></th>\n",
       "      <th>S</th>\n",
       "    </tr>\n",
       "  </thead>\n",
       "  <tbody>\n",
       "    <tr>\n",
       "      <th>0</th>\n",
       "      <td>0.0</td>\n",
       "    </tr>\n",
       "    <tr>\n",
       "      <th>1</th>\n",
       "      <td>0.0</td>\n",
       "    </tr>\n",
       "    <tr>\n",
       "      <th>2</th>\n",
       "      <td>0.0</td>\n",
       "    </tr>\n",
       "    <tr>\n",
       "      <th>3</th>\n",
       "      <td>0.0</td>\n",
       "    </tr>\n",
       "    <tr>\n",
       "      <th>4</th>\n",
       "      <td>0.0</td>\n",
       "    </tr>\n",
       "    <tr>\n",
       "      <th>...</th>\n",
       "      <td>...</td>\n",
       "    </tr>\n",
       "    <tr>\n",
       "      <th>852</th>\n",
       "      <td>0.0</td>\n",
       "    </tr>\n",
       "    <tr>\n",
       "      <th>853</th>\n",
       "      <td>0.0</td>\n",
       "    </tr>\n",
       "    <tr>\n",
       "      <th>854</th>\n",
       "      <td>0.0</td>\n",
       "    </tr>\n",
       "    <tr>\n",
       "      <th>855</th>\n",
       "      <td>0.0</td>\n",
       "    </tr>\n",
       "    <tr>\n",
       "      <th>856</th>\n",
       "      <td>0.0</td>\n",
       "    </tr>\n",
       "  </tbody>\n",
       "</table>\n",
       "<p>857 rows × 1 columns</p>\n",
       "</div>"
      ],
      "text/plain": [
       "       S\n",
       "0    0.0\n",
       "1    0.0\n",
       "2    0.0\n",
       "3    0.0\n",
       "4    0.0\n",
       "..   ...\n",
       "852  0.0\n",
       "853  0.0\n",
       "854  0.0\n",
       "855  0.0\n",
       "856  0.0\n",
       "\n",
       "[857 rows x 1 columns]"
      ]
     },
     "execution_count": 135,
     "metadata": {},
     "output_type": "execute_result"
    }
   ],
   "source": [
    "x = ('S',) \n",
    "list(x)\n",
    "df_emote_dis[list(x)]"
   ]
  },
  {
   "cell_type": "code",
   "execution_count": 141,
   "metadata": {},
   "outputs": [],
   "source": [
    "all_acc = dict()\n",
    "keys = [\"A\", \"S\", \"F\", \"H\",\"N\",\"sick\",\"deaths\"]\n",
    "for j in range(7):\n",
    "        r = keys[j]\n",
    "        possible = [k for k in keys if r!=k]\n",
    "        for s in itertools.combinations(possible, 1):\n",
    "                ls = list(s)\n",
    "                acc = 0 \n",
    "                for i in range(20):\n",
    "                        train_set, test_set = get_splits()\n",
    "                        clf = LogisticRegression(random_state=0).fit(shifted_back[ls].iloc[train_set], df_emote_dis[r].iloc[train_set])\n",
    "                        acc += (1/n_rounds) * clf.score(shifted_back[ls].iloc[test_set], df_emote_dis[r].iloc[test_set])\n",
    "                name = r + \",\" + ls[0]\n",
    "                all_acc[name] = acc\n",
    "        for s in itertools.combinations(possible, 2):\n",
    "                ls = list(s)\n",
    "                acc = 0 \n",
    "                for i in range(20):\n",
    "                        train_set, test_set = get_splits()\n",
    "                        clf = LogisticRegression(random_state=0).fit(shifted_back[ls].iloc[train_set], df_emote_dis[r].iloc[train_set])\n",
    "                        acc += (1/n_rounds) * clf.score(shifted_back[ls].iloc[test_set], df_emote_dis[r].iloc[test_set])\n",
    "                name = \",\".join([r, ls[0], ls[1]])\n",
    "                all_acc[name] = acc \n"
   ]
  },
  {
   "cell_type": "code",
   "execution_count": 142,
   "metadata": {},
   "outputs": [
    {
     "data": {
      "text/plain": [
       "{'A,S': 0.7709205443020208,\n",
       " 'A,F': 0.9061058622154412,\n",
       " 'A,H': 0.8615719831967757,\n",
       " 'A,N': 0.9003788546462677,\n",
       " 'A,sick': 0.5699113001565979,\n",
       " 'A,deaths': 0.7869799364190224,\n",
       " 'A,S,F': 0.9024987756696213,\n",
       " 'A,S,H': 0.8741499832130293,\n",
       " 'A,S,N': 0.8965614924821467,\n",
       " 'A,S,sick': 0.7824652921730597,\n",
       " 'A,S,deaths': 0.7957545798761025,\n",
       " 'A,F,H': 0.9106956044077039,\n",
       " 'A,F,N': 0.8941009447716105,\n",
       " 'A,F,sick': 0.9081564404214026,\n",
       " 'A,F,deaths': 0.9086176459000078,\n",
       " 'A,H,N': 0.9089233706160942,\n",
       " 'A,H,sick': 0.8746936225317044,\n",
       " 'A,H,deaths': 0.8689390482197731,\n",
       " 'A,N,sick': 0.9014398726541832,\n",
       " 'A,N,deaths': 0.8985844993111507,\n",
       " 'A,sick,deaths': 0.7959170528505408,\n",
       " 'S,A': 0.7995782120612318,\n",
       " 'S,F': 0.8257598239661301,\n",
       " 'S,H': 0.8362995346795198,\n",
       " 'S,N': 0.7693344743632942,\n",
       " 'S,sick': 0.5376464168685885,\n",
       " 'S,deaths': 0.7513260258532082,\n",
       " 'S,A,F': 0.8177837819362177,\n",
       " 'S,A,H': 0.8412932894593601,\n",
       " 'S,A,N': 0.8044777539776701,\n",
       " 'S,A,sick': 0.785918087857789,\n",
       " 'S,A,deaths': 0.7906976492435647,\n",
       " 'S,F,H': 0.8440610092401658,\n",
       " 'S,F,N': 0.8095117733470549,\n",
       " 'S,F,sick': 0.8147824338526378,\n",
       " 'S,F,deaths': 0.8135829643060158,\n",
       " 'S,H,N': 0.8484626026454859,\n",
       " 'S,H,sick': 0.8499789308367581,\n",
       " 'S,H,deaths': 0.8524963830461815,\n",
       " 'S,N,sick': 0.755013337238959,\n",
       " 'S,N,deaths': 0.7697885479677441,\n",
       " 'S,sick,deaths': 0.7619576625084346,\n",
       " 'F,A': 0.9058521564172685,\n",
       " 'F,S': 0.8243031937654348,\n",
       " 'F,H': 0.8973450476358744,\n",
       " 'F,N': 0.8693290014124858,\n",
       " 'F,sick': 0.618281831839077,\n",
       " 'F,deaths': 0.818473441810991,\n",
       " 'F,A,S': 0.9013860939364157,\n",
       " 'F,A,H': 0.899981876083014,\n",
       " 'F,A,N': 0.9036645738732696,\n",
       " 'F,A,sick': 0.9099337004373547,\n",
       " 'F,A,deaths': 0.9070950696713439,\n",
       " 'F,S,H': 0.903365216292624,\n",
       " 'F,S,N': 0.8537166258482288,\n",
       " 'F,S,sick': 0.8269399965646621,\n",
       " 'F,S,deaths': 0.802405835581803,\n",
       " 'F,H,N': 0.8958103695650369,\n",
       " 'F,H,sick': 0.8962286548168954,\n",
       " 'F,H,deaths': 0.8987572370939383,\n",
       " 'F,N,sick': 0.8604805711839241,\n",
       " 'F,N,deaths': 0.8634401556402639,\n",
       " 'F,sick,deaths': 0.8119158179806772,\n",
       " 'H,A': 0.8716747991931131,\n",
       " 'H,S': 0.8371528941038981,\n",
       " 'H,F': 0.8835943791886532,\n",
       " 'H,N': 0.837024926382894,\n",
       " 'H,sick': 0.5552297253146611,\n",
       " 'H,deaths': 0.8048852662227527,\n",
       " 'H,A,S': 0.8707478379325774,\n",
       " 'H,A,F': 0.8780274922615322,\n",
       " 'H,A,N': 0.8750705620229577,\n",
       " 'H,A,sick': 0.8757367748440034,\n",
       " 'H,A,deaths': 0.8749166891014798,\n",
       " 'H,S,F': 0.8936441639857859,\n",
       " 'H,S,N': 0.832893742548845,\n",
       " 'H,S,sick': 0.8490610531979209,\n",
       " 'H,S,deaths': 0.8406975178933246,\n",
       " 'H,F,N': 0.8954122052867679,\n",
       " 'H,F,sick': 0.8930410156401112,\n",
       " 'H,F,deaths': 0.8841513365523168,\n",
       " 'H,N,sick': 0.833426125329751,\n",
       " 'H,N,deaths': 0.8283798547056466,\n",
       " 'H,sick,deaths': 0.8132217099269271,\n",
       " 'N,A': 0.8963694640333348,\n",
       " 'N,S': 0.767619858990081,\n",
       " 'N,F': 0.8546541626620234,\n",
       " 'N,H': 0.8245653049272905,\n",
       " 'N,sick': 0.5448417494442084,\n",
       " 'N,deaths': 0.7484228258553085,\n",
       " 'N,A,S': 0.9016468193865075,\n",
       " 'N,A,F': 0.8926366512246441,\n",
       " 'N,A,H': 0.8964650419501036,\n",
       " 'N,A,sick': 0.8892816412402192,\n",
       " 'N,A,deaths': 0.9016783949826616,\n",
       " 'N,S,F': 0.858894887593471,\n",
       " 'N,S,H': 0.83251395544922,\n",
       " 'N,S,sick': 0.7806806101258401,\n",
       " 'N,S,deaths': 0.7885026073589442,\n",
       " 'N,F,H': 0.8523427153975124,\n",
       " 'N,F,sick': 0.845483273173536,\n",
       " 'N,F,deaths': 0.8406525369376926,\n",
       " 'N,H,sick': 0.8257791273711655,\n",
       " 'N,H,deaths': 0.835046658796623,\n",
       " 'N,sick,deaths': 0.7473052075459177,\n",
       " 'sick,A': 0.6924607819547867,\n",
       " 'sick,S': 0.6980791502762267,\n",
       " 'sick,F': 0.6814323750257341,\n",
       " 'sick,H': 0.6991885627499539,\n",
       " 'sick,N': 0.6981344863618041,\n",
       " 'sick,deaths': 0.701860745347272,\n",
       " 'sick,A,S': 0.6991377518085983,\n",
       " 'sick,A,F': 0.7108335448399082,\n",
       " 'sick,A,H': 0.6934224498318121,\n",
       " 'sick,A,N': 0.7021809291039084,\n",
       " 'sick,A,deaths': 0.7763345479110985,\n",
       " 'sick,S,F': 0.7229385216352311,\n",
       " 'sick,S,H': 0.6908320977147646,\n",
       " 'sick,S,N': 0.699907701363108,\n",
       " 'sick,S,deaths': 0.6975891332421662,\n",
       " 'sick,F,H': 0.7077587531890452,\n",
       " 'sick,F,N': 0.7024112076427446,\n",
       " 'sick,F,deaths': 0.7632550864420788,\n",
       " 'sick,H,N': 0.6943359940457547,\n",
       " 'sick,H,deaths': 0.7103712063139609,\n",
       " 'sick,N,deaths': 0.7245161557624514,\n",
       " 'deaths,A': 0.7713226993448875,\n",
       " 'deaths,S': 0.767089437724652,\n",
       " 'deaths,F': 0.8228829276466786,\n",
       " 'deaths,H': 0.8145660281841456,\n",
       " 'deaths,N': 0.7448293355640639,\n",
       " 'deaths,sick': 0.5549346656562926,\n",
       " 'deaths,A,S': 0.7901829659625016,\n",
       " 'deaths,A,F': 0.8254272505956489,\n",
       " 'deaths,A,H': 0.8166378225233805,\n",
       " 'deaths,A,N': 0.7754965098663252,\n",
       " 'deaths,A,sick': 0.7871237357961478,\n",
       " 'deaths,S,F': 0.808807736960105,\n",
       " 'deaths,S,H': 0.8166655280662989,\n",
       " 'deaths,S,N': 0.7663070697364335,\n",
       " 'deaths,S,sick': 0.7618823809058617,\n",
       " 'deaths,F,H': 0.8244436080488834,\n",
       " 'deaths,F,N': 0.8239598800406907,\n",
       " 'deaths,F,sick': 0.8229721295824198,\n",
       " 'deaths,H,N': 0.8157277844768042,\n",
       " 'deaths,H,sick': 0.8129902316904862,\n",
       " 'deaths,N,sick': 0.742894481699573}"
      ]
     },
     "execution_count": 142,
     "metadata": {},
     "output_type": "execute_result"
    }
   ],
   "source": [
    "all_acc"
   ]
  },
  {
   "cell_type": "code",
   "execution_count": 153,
   "metadata": {},
   "outputs": [
    {
     "name": "stdout",
     "output_type": "stream",
     "text": [
      "X1 X2 []\n",
      "X1 X3 []\n",
      "X1 X4 []\n",
      "X1 X5 [<Property.dd: 1>, <Property.nl: 2>]\n",
      "X4 X2 [<Property.dd: 1>, <Property.nl: 2>]\n",
      "X2 X5 [<Property.dd: 1>, <Property.nl: 2>]\n",
      "X3 X4 []\n",
      "X6 X3 []\n",
      "X3 X7 [<Property.dd: 1>, <Property.nl: 2>]\n",
      "X4 X7 []\n",
      "X6 X7 [<Property.pd: 3>, <Property.pl: 4>]\n"
     ]
    }
   ],
   "source": [
    "for i in range(11):\n",
    "    print(e[i].node1, e[i].node2, e[i].properties)"
   ]
  },
  {
   "cell_type": "code",
   "execution_count": 154,
   "metadata": {},
   "outputs": [
    {
     "data": {
      "text/plain": [
       "['Angry', 'Happy', 'Sad', 'Neutral', 'Fear', 'Infection', 'Death']"
      ]
     },
     "execution_count": 154,
     "metadata": {},
     "output_type": "execute_result"
    }
   ],
   "source": [
    "[\"Angry\", \"Happy\", \"Sad\", \"Neutral\", \"Fear\", \"Infection\", \"Death\"]"
   ]
  },
  {
   "cell_type": "code",
   "execution_count": null,
   "metadata": {},
   "outputs": [],
   "source": []
  }
 ],
 "metadata": {
  "kernelspec": {
   "display_name": "pDL",
   "language": "python",
   "name": "python3"
  },
  "language_info": {
   "codemirror_mode": {
    "name": "ipython",
    "version": 3
   },
   "file_extension": ".py",
   "mimetype": "text/x-python",
   "name": "python",
   "nbconvert_exporter": "python",
   "pygments_lexer": "ipython3",
   "version": "3.11.5"
  }
 },
 "nbformat": 4,
 "nbformat_minor": 2
}
